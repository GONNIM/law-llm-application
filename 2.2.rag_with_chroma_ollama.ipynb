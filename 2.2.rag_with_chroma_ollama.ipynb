{
 "cells": [
  {
   "cell_type": "markdown",
   "metadata": {},
   "source": [
    "# 1. Package 설치"
   ]
  },
  {
   "cell_type": "code",
   "execution_count": null,
   "metadata": {},
   "outputs": [],
   "source": [
    "%pip install python-dotenv langchain-community"
   ]
  },
  {
   "cell_type": "markdown",
   "metadata": {},
   "source": [
    "# 2. LLM 답변 생성\n",
    "\n",
    "- `ChatOllama`를 활용한 LLM 답변 생성"
   ]
  },
  {
   "cell_type": "code",
   "execution_count": 5,
   "metadata": {},
   "outputs": [],
   "source": [
    "from langchain_community.chat_models import ChatOllama\n",
    "\n",
    "llm = ChatOllama(model=\"gemma2\")"
   ]
  },
  {
   "cell_type": "code",
   "execution_count": 6,
   "metadata": {},
   "outputs": [],
   "source": [
    "query = \"인프런에 어떤 강의가 있나요?\"\n",
    "\n",
    "ai_message = llm.invoke(query)"
   ]
  },
  {
   "cell_type": "code",
   "execution_count": 7,
   "metadata": {},
   "outputs": [
    {
     "data": {
      "text/plain": [
       "'인프런에는 다양한 분야의 강의들이 있습니다! \\n\\n좀 더 구체적으로 원하신 정보를 알려주시면, 적합한 강의들을 추천해 드릴 수 있어요. 😊\\n\\n예를 들어, \\n\\n* **어떤 분야에 관심이 있으신가요?** (ex: 프로그래밍, 디자인, 마케팅, 취업 준비 등)\\n* **무엇을 배우고 싶으신가요?** (ex: 파이썬 프로그래밍, 웹 디자인, SEO 전략, 이력서 작성 등)\\n* **어떤 수준의 강좌를 원하시나요?** (ex: 초보자, 중급자, 고급자)\\n\\n등을 알려주세요! 🗺️'"
      ]
     },
     "execution_count": 7,
     "metadata": {},
     "output_type": "execute_result"
    }
   ],
   "source": [
    "ai_message.content"
   ]
  },
  {
   "cell_type": "code",
   "execution_count": null,
   "metadata": {},
   "outputs": [],
   "source": []
  }
 ],
 "metadata": {
  "kernelspec": {
   "display_name": "inflearn-llm-application",
   "language": "python",
   "name": "python3"
  },
  "language_info": {
   "codemirror_mode": {
    "name": "ipython",
    "version": 3
   },
   "file_extension": ".py",
   "mimetype": "text/x-python",
   "name": "python",
   "nbconvert_exporter": "python",
   "pygments_lexer": "ipython3",
   "version": "3.12.4"
  }
 },
 "nbformat": 4,
 "nbformat_minor": 2
}
