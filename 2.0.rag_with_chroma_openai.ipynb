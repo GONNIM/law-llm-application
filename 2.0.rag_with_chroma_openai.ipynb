{
 "cells": [
  {
   "cell_type": "markdown",
   "metadata": {},
   "source": [
    "1. 문서의 내용을 읽는다.\n",
    "2. 문서를 쪼갠다.\n",
    "    - 토큰수 초과로 답변을 생성하지 못할 수 있고\n",
    "    - 문서가 길면 (input이 길면) 답변 생성이 오래 걸림\n",
    "3. embedding -> vector database에 저장\n",
    "4. 질문이 있을 때, vector database에 유사도 검색\n",
    "5. 유사도 검색으로 가져온 문서를 LLM에 질문과 같이 전달\n"
   ]
  },
  {
   "cell_type": "code",
   "execution_count": null,
   "metadata": {},
   "outputs": [],
   "source": [
    "%pip install langchain_community docx2txt langchain_chroma langchainhub"
   ]
  },
  {
   "cell_type": "code",
   "execution_count": 12,
   "metadata": {},
   "outputs": [],
   "source": [
    "from langchain_community.document_loaders import Docx2txtLoader\n",
    "from langchain_text_splitters import RecursiveCharacterTextSplitter\n",
    "\n",
    "text_splitter = RecursiveCharacterTextSplitter(\n",
    "    chunk_size=1500,\n",
    "    chunk_overlap=200,\n",
    ")\n",
    "\n",
    "# 소득세법\n",
    "# document_name = './tax_with_markdown.docx'\n",
    "# 민법\n",
    "# document_name = './civil_with_markdown.docx'\n",
    "# 형법\n",
    "# document_name = './criminal_with_markdown.docx'\n",
    "# 도로교통법\n",
    "# document_name = './traffic_with_markdown.docx'\n",
    "# 근로기준법\n",
    "document_name = './labor_with_markdown.docx'\n",
    "\n",
    "loader = Docx2txtLoader(document_name)\n",
    "document_list = loader.load_and_split(text_splitter=text_splitter)"
   ]
  },
  {
   "cell_type": "code",
   "execution_count": 13,
   "metadata": {},
   "outputs": [
    {
     "data": {
      "text/plain": [
       "29"
      ]
     },
     "execution_count": 13,
     "metadata": {},
     "output_type": "execute_result"
    }
   ],
   "source": [
    "len(document_list)"
   ]
  },
  {
   "cell_type": "code",
   "execution_count": 14,
   "metadata": {},
   "outputs": [],
   "source": [
    "from dotenv import load_dotenv\n",
    "from langchain_openai import OpenAIEmbeddings\n",
    "\n",
    "# 환경변수를 불러옴\n",
    "load_dotenv()\n",
    "\n",
    "# OpenAI에서 제공하는 Embedding Model을 활용해서 `chunk`를 vector화\n",
    "embedding = OpenAIEmbeddings(model='text-embedding-3-large')"
   ]
  },
  {
   "cell_type": "code",
   "execution_count": 15,
   "metadata": {},
   "outputs": [],
   "source": [
    "from langchain_chroma import Chroma\n",
    "\n",
    "is_create = True\n",
    "# is_create = False\n",
    "# 소득세법\n",
    "# collection_name = 'chroma-tax'\n",
    "# 민법\n",
    "# collection_name = 'chroma-civil'\n",
    "# 형법\n",
    "# collection_name = 'chroma-criminal'\n",
    "# 도로교통법\n",
    "# collection_name = 'chroma-traffic'\n",
    "# 근로기준법\n",
    "collection_name = 'chroma-labor'\n",
    "\n",
    "if is_create:\n",
    "    # 데이터를 처음 저장할 때 \n",
    "    database = Chroma.from_documents(\n",
    "        documents=document_list, \n",
    "        embedding=embedding,\n",
    "        collection_name=collection_name,\n",
    "        persist_directory='./chroma'\n",
    "    )\n",
    "else:\n",
    "    # 이미 저장된 데이터를 사용할 때 \n",
    "    database = Chroma(\n",
    "        collection_name=collection_name,\n",
    "        persist_directory='./chroma',\n",
    "        embedding_function=embedding\n",
    "    )"
   ]
  },
  {
   "cell_type": "code",
   "execution_count": 16,
   "metadata": {},
   "outputs": [],
   "source": [
    "# 소득세법\n",
    "# query = '연봉 5천만원인 직장인의 소득세는?'\n",
    "# 민법\n",
    "# query = '부동산 매매 계약에서의 소유 이전은 어떻게 이루어지나요?'\n",
    "# 형법\n",
    "# query = '소유권 이전 과정에서 허위 서류를 제출한 경우, 이는 어떤 형법적 처벌을 받을 수 있나요?'\n",
    "# 도로교통법\n",
    "# query = '음주운전 단속 기준은 어떻게 되나요?'\n",
    "# 근로기준법\n",
    "query = '임금 체불 시 어떻게 대응해야 하나요?'\n",
    "\n",
    "# `k` 값을 조절해서 얼마나 많은 데이터를 불러올지 결정\n",
    "retrieved_docs = database.similarity_search(query, k=3)"
   ]
  },
  {
   "cell_type": "code",
   "execution_count": 17,
   "metadata": {},
   "outputs": [],
   "source": [
    "from langchain_openai import ChatOpenAI\n",
    "\n",
    "llm = ChatOpenAI(model='gpt-4o')"
   ]
  },
  {
   "cell_type": "code",
   "execution_count": 18,
   "metadata": {},
   "outputs": [],
   "source": [
    "from langchain import hub\n",
    "\n",
    "prompt = hub.pull(\"rlm/rag-prompt\")"
   ]
  },
  {
   "cell_type": "code",
   "execution_count": 19,
   "metadata": {},
   "outputs": [
    {
     "data": {
      "text/plain": [
       "ChatPromptTemplate(input_variables=['context', 'question'], metadata={'lc_hub_owner': 'rlm', 'lc_hub_repo': 'rag-prompt', 'lc_hub_commit_hash': '50442af133e61576e74536c6556cefe1fac147cad032f4377b60c436e6cdcb6e'}, messages=[HumanMessagePromptTemplate(prompt=PromptTemplate(input_variables=['context', 'question'], template=\"You are an assistant for question-answering tasks. Use the following pieces of retrieved context to answer the question. If you don't know the answer, just say that you don't know. Use three sentences maximum and keep the answer concise.\\nQuestion: {question} \\nContext: {context} \\nAnswer:\"))])"
      ]
     },
     "execution_count": 19,
     "metadata": {},
     "output_type": "execute_result"
    }
   ],
   "source": [
    "prompt"
   ]
  },
  {
   "cell_type": "code",
   "execution_count": 20,
   "metadata": {},
   "outputs": [],
   "source": [
    "from langchain.chains import RetrievalQA\n",
    "\n",
    "qa_chain = RetrievalQA.from_chain_type(\n",
    "    llm,\n",
    "    retriever=database.as_retriever(),\n",
    "    chain_type_kwargs={\"prompt\": prompt}\n",
    ")"
   ]
  },
  {
   "cell_type": "code",
   "execution_count": 21,
   "metadata": {},
   "outputs": [],
   "source": [
    "ai_message = qa_chain.invoke(query)"
   ]
  },
  {
   "cell_type": "code",
   "execution_count": 22,
   "metadata": {},
   "outputs": [
    {
     "data": {
      "text/plain": [
       "{'query': '임금 체불 시 어떻게 대응해야 하나요?',\n",
       " 'result': '임금 체불 시, 먼저 고용노동부에 신고하여 체불임금 진정을 접수할 수 있습니다. 또한, 민사집행법에 따른 지급명령이나 소송을 통해 임금채권을 확보할 수 있으며, 체불사업주의 명단 공개 등을 통해 압박할 수도 있습니다. 필요 시, 직상 수급인에게 연대책임을 요구하여 임금 지급을 청구할 수 있습니다.'}"
      ]
     },
     "execution_count": 22,
     "metadata": {},
     "output_type": "execute_result"
    }
   ],
   "source": [
    "ai_message"
   ]
  },
  {
   "cell_type": "code",
   "execution_count": null,
   "metadata": {},
   "outputs": [],
   "source": []
  }
 ],
 "metadata": {
  "kernelspec": {
   "display_name": "inflearn-llm-application",
   "language": "python",
   "name": "python3"
  },
  "language_info": {
   "codemirror_mode": {
    "name": "ipython",
    "version": 3
   },
   "file_extension": ".py",
   "mimetype": "text/x-python",
   "name": "python",
   "nbconvert_exporter": "python",
   "pygments_lexer": "ipython3",
   "version": "3.12.4"
  }
 },
 "nbformat": 4,
 "nbformat_minor": 2
}
