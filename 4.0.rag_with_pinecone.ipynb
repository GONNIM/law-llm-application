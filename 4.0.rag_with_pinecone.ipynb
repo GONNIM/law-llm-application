{
 "cells": [
  {
   "cell_type": "markdown",
   "metadata": {},
   "source": [
    "# 1. Package 설치"
   ]
  },
  {
   "cell_type": "code",
   "execution_count": null,
   "metadata": {},
   "outputs": [],
   "source": [
    "%pip install langchain langchain-core langchain-community langchain-text-splitters langchain-openai langchain-pinecone"
   ]
  },
  {
   "cell_type": "markdown",
   "metadata": {},
   "source": [
    "# 2. Knowledge Base 구성을 위한 데이터 생성"
   ]
  },
  {
   "cell_type": "markdown",
   "metadata": {},
   "source": [
    "- Chroma를 활용한 2. LangChain과 Chroma를 활용한 RAG 구성과 동일함\n",
    "- Vector Database만 Pinecone으로 변경"
   ]
  },
  {
   "cell_type": "code",
   "execution_count": 1,
   "metadata": {},
   "outputs": [],
   "source": [
    "from langchain_community.document_loaders import Docx2txtLoader\n",
    "from langchain_text_splitters import RecursiveCharacterTextSplitter\n",
    "\n",
    "text_splitter = RecursiveCharacterTextSplitter(\n",
    "    chunk_size=1500,\n",
    "    chunk_overlap=200,\n",
    ")\n",
    "\n",
    "# 민법\n",
    "# document_name = './civil_with_markdown.docx'\n",
    "# 형법\n",
    "document_name = './criminal_with_markdown.docx'\n",
    "\n",
    "loader = Docx2txtLoader(document_name)\n",
    "document_list = loader.load_and_split(text_splitter=text_splitter)"
   ]
  },
  {
   "cell_type": "code",
   "execution_count": 2,
   "metadata": {},
   "outputs": [
    {
     "data": {
      "text/plain": [
       "43"
      ]
     },
     "execution_count": 2,
     "metadata": {},
     "output_type": "execute_result"
    }
   ],
   "source": [
    "len_list = len(document_list)\n",
    "len_list"
   ]
  },
  {
   "cell_type": "code",
   "execution_count": 3,
   "metadata": {},
   "outputs": [
    {
     "data": {
      "text/plain": [
       "Document(metadata={'source': './criminal_with_markdown.docx'}, page_content='② 제287조부터 제289조까지의 죄를 범하여 약취, 유인, 매매 또는 이송된 사람을 상해에 이르게 한 때에는 2년 이상 20년 이하의 징역에 처한다.\\n\\n[전문개정 2013. 4. 5.]\\n\\n\\n\\n제291조(약취, 유인, 매매, 이송 등 살인ㆍ치사) ① 제287조부터 제289조까지의 죄를 범하여 약취, 유인, 매매 또는 이송된 사람을 살해한 때에는 사형, 무기 또는 7년 이상의 징역에 처한다.\\n\\n② 제287조부터 제289조까지의 죄를 범하여 약취, 유인, 매매 또는 이송된 사람을 사망에 이르게 한 때에는 무기 또는 5년 이상의 징역에 처한다.\\n\\n[전문개정 2013. 4. 5.]\\n\\n\\n\\n제292조(약취, 유인, 매매, 이송된 사람의 수수ㆍ은닉 등) ① 제287조부터 제289조까지의 죄로 약취, 유인, 매매 또는 이송된 사람을 수수(授受) 또는 은닉한 사람은 7년 이하의 징역에 처한다.\\n\\n② 제287조부터 제289조까지의 죄를 범할 목적으로 사람을 모집, 운송, 전달한 사람도 제1항과 동일한 형으로 처벌한다.\\n\\n[전문개정 2013. 4. 5.]\\n\\n\\n\\n제293조 삭제 <2013. 4. 5.>\\n\\n\\n\\n제294조(미수범) 제287조부터 제289조까지, 제290조제1항, 제291조제1항과 제292조제1항의 미수범은 처벌한다.\\n\\n[전문개정 2013. 4. 5.]\\n\\n\\n\\n제295조(벌금의 병과) 제288조부터 제291조까지, 제292조제1항의 죄와 그 미수범에 대하여는 5천만원 이하의 벌금을 병과할 수 있다.\\n\\n[전문개정 2013. 4. 5.]\\n\\n\\n\\n제295조의2(형의 감경) 제287조부터 제290조까지, 제292조와 제294조의 죄를 범한 사람이 약취, 유인, 매매 또는 이송된 사람을 안전한 장소로 풀어준 때에는 그 형을 감경할 수 있다.\\n\\n[전문개정 2013. 4. 5.]\\n\\n\\n\\n제296조(예비, 음모) 제287조부터 제289조까지, 제290조제1항, 제291조제1항과 제292조제1항의 죄를 범할 목적으로 예비 또는 음모한 사람은 3년 이하의 징역에 처한다.\\n\\n[본조신설 2013. 4. 5.]\\n\\n\\n\\n제296조의2(세계주의) 제287조부터 제292조까지 및 제294조는 대한민국 영역 밖에서 죄를 범한 외국인에게도 적용한다.\\n\\n[본조신설 2013. 4. 5.]\\n\\n\\n\\n제32장 강간과 추행의 죄 <개정 1995. 12. 29.>\\n\\n\\n\\n제297조(강간) 폭행 또는 협박으로 사람을 강간한 자는 3년 이상의 유기징역에 처한다. <개정 2012. 12. 18.>\\n\\n\\n\\n제297조의2(유사강간) 폭행 또는 협박으로 사람에 대하여 구강, 항문 등 신체(성기는 제외한다)의 내부에 성기를 넣거나 성기, 항문에 손가락 등 신체(성기는 제외한다)의 일부 또는 도구를 넣는 행위를 한 사람은 2년 이상의 유기징역에 처한다.\\n\\n[본조신설 2012. 12. 18.]\\n\\n\\n\\n제298조(강제추행) 폭행 또는 협박으로 사람에 대하여 추행을 한 자는 10년 이하의 징역 또는 1천500만원 이하의 벌금에 처한다. <개정 1995. 12. 29.>')"
      ]
     },
     "execution_count": 3,
     "metadata": {},
     "output_type": "execute_result"
    }
   ],
   "source": [
    "document_list[len_list - 10]"
   ]
  },
  {
   "cell_type": "code",
   "execution_count": 4,
   "metadata": {},
   "outputs": [],
   "source": [
    "from dotenv import load_dotenv\n",
    "from langchain_openai import OpenAIEmbeddings\n",
    "\n",
    "load_dotenv()\n",
    "\n",
    "embedding = OpenAIEmbeddings(model='text-embedding-3-large')"
   ]
  },
  {
   "cell_type": "code",
   "execution_count": 5,
   "metadata": {},
   "outputs": [
    {
     "name": "stderr",
     "output_type": "stream",
     "text": [
      "/Users/gonnim/.pyenv/versions/3.12.4/lib/python3.12/site-packages/pinecone/data/index.py:1: TqdmWarning: IProgress not found. Please update jupyter and ipywidgets. See https://ipywidgets.readthedocs.io/en/stable/user_install.html\n",
      "  from tqdm.autonotebook import tqdm\n"
     ]
    }
   ],
   "source": [
    "import os\n",
    "\n",
    "from pinecone import Pinecone\n",
    "from langchain_pinecone import PineconeVectorStore\n",
    "\n",
    "# 민법\n",
    "# index_name = 'civil-markdown-index'\n",
    "# 형법\n",
    "index_name = 'criminal-markdown-index'\n",
    "\n",
    "pinecone_api_key = os.environ.get(\"PINECONE_API_KEY\")\n",
    "pc = Pinecone(api_key=pinecone_api_key)\n",
    "\n",
    "database = PineconeVectorStore.from_documents(document_list, embedding, index_name=index_name)"
   ]
  },
  {
   "cell_type": "code",
   "execution_count": 6,
   "metadata": {},
   "outputs": [],
   "source": [
    "# 민법\n",
    "# query = '부동산 매매 계약에서의 소유 이전은 어떻게 이루어지나요?'\n",
    "# 형법\n",
    "query = '소유권 이전 과정에서 허위 서류를 제출한 경우, 이는 어떤 형법적 처벌을 받을 수 있나요?'"
   ]
  },
  {
   "cell_type": "markdown",
   "metadata": {},
   "source": [
    "# 3. 답변 생성을 위한 Retrieval"
   ]
  },
  {
   "cell_type": "markdown",
   "metadata": {},
   "source": [
    "- RetrievalQA에 전달하기 위해 retriever 생성\n",
    "- search_kwargs의 k값을 변경해서 가져올 문서의 갯수를 지정할 수 있음\n",
    "- .invoke()를 호출해서 어떤 문서를 가져오는지 확인 가능"
   ]
  },
  {
   "cell_type": "code",
   "execution_count": 8,
   "metadata": {},
   "outputs": [
    {
     "data": {
      "text/plain": [
       "[Document(metadata={'source': './civil_with_markdown.docx'}, page_content='②상대부담있는 증여에 대하여는 증여자는 그 부담의 한도에서 매도인과 같은 담보의 책임이 있다.\\n\\n\\n\\n제560조(정기증여와 사망으로 인한 실효) 정기의 급여를 목적으로 한 증여는 증여자 또는 수증자의 사망으로 인하여 그 효력을 잃는다.\\n\\n\\n\\n제561조(부담부증여) 상대부담있는 증여에 대하여는 본절의 규정외에 쌍무계약에 관한 규정을 적용한다.\\n\\n\\n\\n제562조(사인증여) 증여자의 사망으로 인하여 효력이 생길 증여에는 유증에 관한 규정을 준용한다.\\n\\n\\n\\n제3절 매매\\n\\n\\n\\n제1관 총칙\\n\\n\\n\\n제563조(매매의 의의) 매매는 당사자 일방이 재산권을 상대방에게 이전할 것을 약정하고 상대방이 그 대금을 지급할 것을 약정함으로써 그 효력이 생긴다.\\n\\n\\n\\n제564조(매매의 일방예약) ①매매의 일방예약은 상대방이 매매를 완결할 의사를 표시하는 때에 매매의 효력이 생긴다.\\n\\n②전항의 의사표시의 기간을 정하지 아니한 때에는 예약자는 상당한 기간을 정하여 매매완결여부의 확답을 상대방에게 최고할 수 있다.\\n\\n③예약자가 전항의 기간내에 확답을 받지 못한 때에는 예약은 그 효력을 잃는다.\\n\\n\\n\\n제565조(해약금) ①매매의 당사자 일방이 계약당시에 금전 기타 물건을 계약금, 보증금등의 명목으로 상대방에게 교부한 때에는 당사자간에 다른 약정이 없는 한 당사자의 일방이 이행에 착수할 때까지 교부자는 이를 포기하고 수령자는 그 배액을 상환하여 매매계약을 해제할 수 있다.\\n\\n②제551조의 규정은 전항의 경우에 이를 적용하지 아니한다.\\n\\n\\n\\n제566조(매매계약의 비용의 부담) 매매계약에 관한 비용은 당사자 쌍방이 균분하여 부담한다.\\n\\n\\n\\n제567조(유상계약에의 준용) 본절의 규정은 매매 이외의 유상계약에 준용한다. 그러나 그 계약의 성질이 이를 허용하지 아니하는 때에는 그러하지 아니하다.\\n\\n\\n\\n제2관 매매의 효력\\n\\n\\n\\n제568조(매매의 효력) ①매도인은 매수인에 대하여 매매의 목적이 된 권리를 이전하여야 하며 매수인은 매도인에게 그 대금을 지급하여야 한다.\\n\\n②전항의 쌍방의무는 특별한 약정이나 관습이 없으면 동시에 이행하여야 한다.\\n\\n\\n\\n제569조(타인의 권리의 매매) 매매의 목적이 된 권리가 타인에게 속한 경우에는 매도인은 그 권리를 취득하여 매수인에게 이전하여야 한다.\\n\\n\\n\\n제570조(동전-매도인의 담보책임) 전조의 경우에 매도인이 그 권리를 취득하여 매수인에게 이전할 수 없는 때에는 매수인은 계약을 해제할 수 있다. 그러나 매수인이 계약당시 그 권리가 매도인에게 속하지 아니함을 안 때에는 손해배상을 청구하지 못한다.\\n\\n\\n\\n제571조(동전-선의의 매도인의 담보책임) ①매도인이 계약당시에 매매의 목적이 된 권리가 자기에게 속하지 아니함을 알지 못한 경우에 그 권리를 취득하여 매수인에게 이전할 수 없는 때에는 매도인은 손해를 배상하고 계약을 해제할 수 있다.\\n\\n②전항의 경우에 매수인이 계약당시 그 권리가 매도인에게 속하지 아니함을 안 때에는 매도인은 매수인에 대하여 그 권리를 이전할 수 없음을 통지하고 계약을 해제할 수 있다.'),\n",
       " Document(metadata={'source': './civil_with_markdown.docx'}, page_content='②전항의 경우에 매수인이 계약당시 그 권리가 매도인에게 속하지 아니함을 안 때에는 매도인은 매수인에 대하여 그 권리를 이전할 수 없음을 통지하고 계약을 해제할 수 있다.\\n\\n\\n\\n제572조(권리의 일부가 타인에게 속한 경우와 매도인의 담보책임) ①매매의 목적이 된 권리의 일부가 타인에게 속함으로 인하여 매도인이 그 권리를 취득하여 매수인에게 이전할 수 없는 때에는 매수인은 그 부분의 비율로 대금의 감액을 청구할 수 있다.\\n\\n②전항의 경우에 잔존한 부분만이면 매수인이 이를 매수하지 아니하였을 때에는 선의의 매수인은 계약전부를 해제할 수 있다.\\n\\n③선의의 매수인은 감액청구 또는 계약해제외에 손해배상을 청구할 수 있다.\\n\\n\\n\\n제573조(전조의 권리행사의 기간) 전조의 권리는 매수인이 선의인 경우에는 사실을 안 날로부터, 악의인 경우에는 계약한 날로부터 1년내에 행사하여야 한다.\\n\\n\\n\\n제574조(수량부족, 일부멸실의 경우와 매도인의 담보책임) 전2조의 규정은 수량을 지정한 매매의 목적물이 부족되는 경우와 매매목적물의 일부가 계약당시에 이미 멸실된 경우에 매수인이 그 부족 또는 멸실을 알지 못한 때에 준용한다.\\n\\n\\n\\n제575조(제한물권있는 경우와 매도인의 담보책임) ①매매의 목적물이 지상권, 지역권, 전세권, 질권 또는 유치권의 목적이 된 경우에 매수인이 이를 알지 못한 때에는 이로 인하여 계약의 목적을 달성할 수 없는 경우에 한하여 매수인은 계약을 해제할 수 있다. 기타의 경우에는 손해배상만을 청구할 수 있다.\\n\\n②전항의 규정은 매매의 목적이 된 부동산을 위하여 존재할 지역권이 없거나 그 부동산에 등기된 임대차계약이 있는 경우에 준용한다.\\n\\n③전2항의 권리는 매수인이 그 사실을 안 날로부터 1년내에 행사하여야 한다.\\n\\n\\n\\n제576조(저당권, 전세권의 행사와 매도인의 담보책임) ①매매의 목적이 된 부동산에 설정된 저당권 또는 전세권의 행사로 인하여 매수인이 그 소유권을 취득할 수 없거나 취득한 소유권을 잃은 때에는 매수인은 계약을 해제할 수 있다.\\n\\n②전항의 경우에 매수인의 출재로 그 소유권을 보존한 때에는 매도인에 대하여 그 상환을 청구할 수 있다.\\n\\n③전2항의 경우에 매수인이 손해를 받은 때에는 그 배상을 청구할 수 있다.\\n\\n\\n\\n제577조(저당권의 목적이 된 지상권, 전세권의 매매와 매도인의 담보책임) 전조의 규정은 저당권의 목적이 된 지상권 또는 전세권이 매매의 목적이 된 경우에 준용한다.\\n\\n\\n\\n제578조(경매와 매도인의 담보책임) ①경매의 경우에는 경락인은 전8조의 규정에 의하여 채무자에게 계약의 해제 또는 대금감액의 청구를 할 수 있다.\\n\\n②전항의 경우에 채무자가 자력이 없는 때에는 경락인은 대금의 배당을 받은 채권자에 대하여 그 대금전부나 일부의 반환을 청구할 수 있다.\\n\\n③전2항의 경우에 채무자가 물건 또는 권리의 흠결을 알고 고지하지 아니하거나 채권자가 이를 알고 경매를 청구한 때에는 경락인은 그 흠결을 안 채무자나 채권자에 대하여 손해배상을 청구할 수 있다.'),\n",
       " Document(metadata={'source': './civil_with_markdown.docx'}, page_content='제589조(대금공탁청구권) 전조의 경우에 매도인은 매수인에 대하여 대금의 공탁을 청구할 수 있다.\\n\\n\\n\\n제3관 환매\\n\\n\\n\\n제590조(환매의 의의) ①매도인이 매매계약과 동시에 환매할 권리를 보류한 때에는 그 영수한 대금 및 매수인이 부담한 매매비용을 반환하고 그 목적물을 환매할 수 있다.\\n\\n②전항의 환매대금에 관하여 특별한 약정이 있으면 그 약정에 의한다.\\n\\n③전2항의 경우에 목적물의 과실과 대금의 이자는 특별한 약정이 없으면 이를 상계한 것으로 본다.\\n\\n\\n\\n제591조(환매기간) ①환매기간은 부동산은 5년, 동산은 3년을 넘지 못한다. 약정기간이 이를 넘는 때에는 부동산은 5년, 동산은 3년으로 단축한다.\\n\\n②환매기간을 정한 때에는 다시 이를 연장하지 못한다.\\n\\n③환매기간을 정하지 아니한 때에는 그 기간은 부동산은 5년, 동산은 3년으로 한다.\\n\\n\\n\\n제592조(환매등기) 매매의 목적물이 부동산인 경우에 매매등기와 동시에 환매권의 보류를 등기한 때에는 제삼자에 대하여 그 효력이 있다.\\n\\n\\n\\n제593조(환매권의 대위행사와 매수인의 권리) 매도인의 채권자가 매도인을 대위하여 환매하고자 하는 때에는 매수인은 법원이 선정한 감정인의 평가액에서 매도인이 반환할 금액을 공제한 잔액으로 매도인의 채무를 변제하고 잉여액이 있으면 이를 매도인에게 지급하여 환매권을 소멸시킬 수 있다.\\n\\n\\n\\n제594조(환매의 실행) ①매도인은 기간내에 대금과 매매비용을 매수인에게 제공하지 아니하면 환매할 권리를 잃는다.\\n\\n②매수인이나 전득자가 목적물에 대하여 비용을 지출한 때에는 매도인은 제203조의 규정에 의하여 이를 상환하여야 한다. 그러나 유익비에 대하여는 법원은 매도인의 청구에 의하여 상당한 상환기간을 허여할 수 있다.\\n\\n\\n\\n제595조(공유지분의 환매) 공유자의 1인이 환매할 권리를 보류하고 그 지분을 매도한 후 그 목적물의 분할이나 경매가 있는 때에는 매도인은 매수인이 받은 또는 받을 부분이나 대금에 대하여 환매권을 행사할 수 있다. 그러나 매도인에게 통지하지 아니한 매수인은 그 분할이나 경매로써 매도인에게 대항하지 못한다.\\n\\n\\n\\n제4절 교환\\n\\n\\n\\n제596조(교환의 의의) 교환은 당사자 쌍방이 금전 이외의 재산권을 상호이전할 것을 약정함으로써 그 효력이 생긴다.\\n\\n\\n\\n제597조(금전의 보충지급의 경우) 당사자 일방이 전조의 재산권이전과 금전의 보충지급을 약정한 때에는 그 금전에 대하여는 매매대금에 관한 규정을 준용한다.\\n\\n\\n\\n제5절 소비대차\\n\\n\\n\\n제598조(소비대차의 의의) 소비대차는 당사자 일방이 금전 기타 대체물의 소유권을 상대방에게 이전할 것을 약정하고 상대방은 그와 같은 종류, 품질 및 수량으로 반환할 것을 약정함으로써 그 효력이 생긴다.\\n\\n\\n\\n제599조(파산과 소비대차의 실효) 대주가 목적물을 차주에게 인도하기 전에 당사자 일방이 파산선고를 받은 때에는 소비대차는 그 효력을 잃는다.'),\n",
       " Document(metadata={'source': './civil_with_markdown.docx'}, page_content='②전항의 공사를 함에는 토사가 붕괴하거나 하수 또는 오액이 이웃에 흐르지 아니하도록 적당한 조처를 하여야 한다.\\n\\n\\n\\n제2절 소유권의 취득\\n\\n\\n\\n제245조(점유로 인한 부동산소유권의 취득기간) ①20년간 소유의 의사로 평온, 공연하게 부동산을 점유하는 자는 등기함으로써 그 소유권을 취득한다.\\n\\n②부동산의 소유자로 등기한 자가 10년간 소유의 의사로 평온, 공연하게 선의이며 과실없이 그 부동산을 점유한 때에는 소유권을 취득한다.\\n\\n\\n\\n제246조(점유로 인한 동산소유권의 취득기간) ①10년간 소유의 의사로 평온, 공연하게 동산을 점유한 자는 그 소유권을 취득한다.\\n\\n②전항의 점유가 선의이며 과실없이 개시된 경우에는 5년을 경과함으로써 그 소유권을 취득한다.\\n\\n\\n\\n제247조(소유권취득의 소급효, 중단사유) ①전2조의 규정에 의한 소유권취득의 효력은 점유를 개시한 때에 소급한다.\\n\\n②소멸시효의 중단에 관한 규정은 전2조의 소유권취득기간에 준용한다.\\n\\n\\n\\n제248조(소유권 이외의 재산권의 취득시효) 전3조의 규정은 소유권 이외의 재산권의 취득에 준용한다.\\n\\n\\n\\n제249조(선의취득) 평온, 공연하게 동산을 양수한 자가 선의이며 과실없이 그 동산을 점유한 경우에는 양도인이 정당한 소유자가 아닌 때에도 즉시 그 동산의 소유권을 취득한다.\\n\\n\\n\\n제250조(도품, 유실물에 대한 특례) 전조의 경우에 그 동산이 도품이나 유실물인 때에는 피해자 또는 유실자는 도난 또는 유실한 날로부터 2년내에 그 물건의 반환을 청구할 수 있다. 그러나 도품이나 유실물이 금전인 때에는 그러하지 아니하다.\\n\\n\\n\\n제251조(도품, 유실물에 대한 특례) 양수인이 도품 또는 유실물을 경매나 공개시장에서 또는 동종류의 물건을 판매하는 상인에게서 선의로 매수한 때에는 피해자 또는 유실자는 양수인이 지급한 대가를 변상하고 그 물건의 반환을 청구할 수 있다.\\n\\n\\n\\n제252조(무주물의 귀속) ①무주의 동산을 소유의 의사로 점유한 자는 그 소유권을 취득한다.\\n\\n②무주의 부동산은 국유로 한다.\\n\\n③야생하는 동물은 무주물로 하고 사양하는 야생동물도 다시 야생상태로 돌아가면 무주물로 한다.\\n\\n\\n\\n제253조(유실물의 소유권취득) 유실물은 법률에 정한 바에 의하여 공고한 후 6개월 내에 그 소유자가 권리를 주장하지 아니하면 습득자가 그 소유권을 취득한다. <개정 2013. 4. 5.>\\n\\n\\n\\n제254조(매장물의 소유권취득) 매장물은 법률에 정한 바에 의하여 공고한 후 1년내에 그 소유자가 권리를 주장하지 아니하면 발견자가 그 소유권을 취득한다. 그러나 타인의 토지 기타 물건으로부터 발견한 매장물은 그 토지 기타 물건의 소유자와 발견자가 절반하여 취득한다.\\n\\n\\n\\n제255조(「국가유산기본법」 제3조에 따른 국가유산의 국유) ①학술, 기예 또는 고고의 중요한 재료가 되는 물건에 대하여는 제252조제1항 및 전2조의 규정에 의하지 아니하고 국유로 한다.\\n\\n②전항의 경우에 습득자, 발견자 및 매장물이 발견된 토지 기타 물건의 소유자는 국가에 대하여 적당한 보상을 청구할 수 있다.')]"
      ]
     },
     "execution_count": 8,
     "metadata": {},
     "output_type": "execute_result"
    }
   ],
   "source": [
    "retriever = database.as_retriever(search_kwargs={'k': 4})\n",
    "retriever.invoke(query)"
   ]
  },
  {
   "cell_type": "markdown",
   "metadata": {},
   "source": [
    "# 4. Augmentation을 위한 Prompt 활용"
   ]
  },
  {
   "cell_type": "markdown",
   "metadata": {},
   "source": [
    "- Retrieval 된 데이터는 LangChain에서 제공하는 프롬프트(\"rlm/rag-prompt\") 사용"
   ]
  },
  {
   "cell_type": "code",
   "execution_count": 9,
   "metadata": {},
   "outputs": [],
   "source": [
    "from langchain import hub\n",
    "\n",
    "prompt = hub.pull(\"rlm/rag-prompt\")"
   ]
  },
  {
   "cell_type": "code",
   "execution_count": 10,
   "metadata": {},
   "outputs": [],
   "source": [
    "from langchain_openai import ChatOpenAI\n",
    "\n",
    "llm = ChatOpenAI(model='gpt-4o')"
   ]
  },
  {
   "cell_type": "markdown",
   "metadata": {},
   "source": [
    "# 5. 답변 생성"
   ]
  },
  {
   "cell_type": "markdown",
   "metadata": {},
   "source": [
    "- RetrievalQA를 통해 LLM에 전달\n",
    "    - RetrievalQA는 create_retrieval_chain으로 대체됨\n",
    "    - 실제 ChatBot 구현 시 create_retrieval_chain으로 변경하는 과정을 볼 수 있음"
   ]
  },
  {
   "cell_type": "code",
   "execution_count": 11,
   "metadata": {},
   "outputs": [],
   "source": [
    "from langchain.chains import RetrievalQA\n",
    "\n",
    "qa_chain = RetrievalQA.from_chain_type(\n",
    "    llm,\n",
    "    retriever=retriever,\n",
    "    chain_type_kwargs={\"prompt\": prompt}\n",
    ")"
   ]
  },
  {
   "cell_type": "code",
   "execution_count": 12,
   "metadata": {},
   "outputs": [],
   "source": [
    "ai_message = qa_chain.invoke({\"query\": query})"
   ]
  },
  {
   "cell_type": "code",
   "execution_count": 13,
   "metadata": {},
   "outputs": [
    {
     "data": {
      "text/plain": [
       "{'query': '부동산 매매 계약에서의 소유 이전은 어떻게 이루어지나요?',\n",
       " 'result': '부동산 매매 계약에서 소유 이전은 매도인이 매수인에게 매매의 목적이 된 권리를 이전하고, 매수인은 매도인에게 대금을 지급함으로써 이루어집니다. 이 쌍방의무는 특별한 약정이나 관습이 없으면 동시에 이행되어야 합니다. (제568조)'}"
      ]
     },
     "execution_count": 13,
     "metadata": {},
     "output_type": "execute_result"
    }
   ],
   "source": [
    "ai_message"
   ]
  },
  {
   "cell_type": "code",
   "execution_count": null,
   "metadata": {},
   "outputs": [],
   "source": []
  }
 ],
 "metadata": {
  "kernelspec": {
   "display_name": "inflearn-llm-application",
   "language": "python",
   "name": "python3"
  },
  "language_info": {
   "codemirror_mode": {
    "name": "ipython",
    "version": 3
   },
   "file_extension": ".py",
   "mimetype": "text/x-python",
   "name": "python",
   "nbconvert_exporter": "python",
   "pygments_lexer": "ipython3",
   "version": "3.12.4"
  }
 },
 "nbformat": 4,
 "nbformat_minor": 2
}
