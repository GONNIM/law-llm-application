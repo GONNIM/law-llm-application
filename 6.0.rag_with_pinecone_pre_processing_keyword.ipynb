{
 "cells": [
  {
   "cell_type": "markdown",
   "metadata": {},
   "source": [
    "# 1. Package 설치"
   ]
  },
  {
   "cell_type": "code",
   "execution_count": null,
   "metadata": {},
   "outputs": [],
   "source": [
    "%pip install langchain langchain-core langchain-community langchain-text-splitters langchain-openai langchain-pinecone"
   ]
  },
  {
   "cell_type": "markdown",
   "metadata": {},
   "source": [
    "# 2. Knowledge Base 구성을 위한 데이터 생성"
   ]
  },
  {
   "cell_type": "markdown",
   "metadata": {},
   "source": [
    "- 4. LangChain을 활용한 Vector Database 변경 (Chroma -> Pinecone)과 동일함"
   ]
  },
  {
   "cell_type": "code",
   "execution_count": 10,
   "metadata": {},
   "outputs": [],
   "source": [
    "from langchain_community.document_loaders import Docx2txtLoader\n",
    "from langchain_text_splitters import RecursiveCharacterTextSplitter\n",
    "\n",
    "text_splitter = RecursiveCharacterTextSplitter(\n",
    "    chunk_size=1500,\n",
    "    chunk_overlap=200,\n",
    ")\n",
    "\n",
    "# 민법\n",
    "# document_name = './civil_with_markdown.docx'\n",
    "# 형법\n",
    "document_name = './criminal_with_markdown.docx'\n",
    "\n",
    "loader = Docx2txtLoader(document_name)\n",
    "document_list = loader.load_and_split(text_splitter=text_splitter)"
   ]
  },
  {
   "cell_type": "code",
   "execution_count": 11,
   "metadata": {},
   "outputs": [
    {
     "data": {
      "text/plain": [
       "43"
      ]
     },
     "execution_count": 11,
     "metadata": {},
     "output_type": "execute_result"
    }
   ],
   "source": [
    "len_list = len(document_list)\n",
    "len_list"
   ]
  },
  {
   "cell_type": "code",
   "execution_count": 12,
   "metadata": {},
   "outputs": [
    {
     "data": {
      "text/plain": [
       "Document(metadata={'source': './criminal_with_markdown.docx'}, page_content='② 제287조부터 제289조까지의 죄를 범하여 약취, 유인, 매매 또는 이송된 사람을 상해에 이르게 한 때에는 2년 이상 20년 이하의 징역에 처한다.\\n\\n[전문개정 2013. 4. 5.]\\n\\n\\n\\n제291조(약취, 유인, 매매, 이송 등 살인ㆍ치사) ① 제287조부터 제289조까지의 죄를 범하여 약취, 유인, 매매 또는 이송된 사람을 살해한 때에는 사형, 무기 또는 7년 이상의 징역에 처한다.\\n\\n② 제287조부터 제289조까지의 죄를 범하여 약취, 유인, 매매 또는 이송된 사람을 사망에 이르게 한 때에는 무기 또는 5년 이상의 징역에 처한다.\\n\\n[전문개정 2013. 4. 5.]\\n\\n\\n\\n제292조(약취, 유인, 매매, 이송된 사람의 수수ㆍ은닉 등) ① 제287조부터 제289조까지의 죄로 약취, 유인, 매매 또는 이송된 사람을 수수(授受) 또는 은닉한 사람은 7년 이하의 징역에 처한다.\\n\\n② 제287조부터 제289조까지의 죄를 범할 목적으로 사람을 모집, 운송, 전달한 사람도 제1항과 동일한 형으로 처벌한다.\\n\\n[전문개정 2013. 4. 5.]\\n\\n\\n\\n제293조 삭제 <2013. 4. 5.>\\n\\n\\n\\n제294조(미수범) 제287조부터 제289조까지, 제290조제1항, 제291조제1항과 제292조제1항의 미수범은 처벌한다.\\n\\n[전문개정 2013. 4. 5.]\\n\\n\\n\\n제295조(벌금의 병과) 제288조부터 제291조까지, 제292조제1항의 죄와 그 미수범에 대하여는 5천만원 이하의 벌금을 병과할 수 있다.\\n\\n[전문개정 2013. 4. 5.]\\n\\n\\n\\n제295조의2(형의 감경) 제287조부터 제290조까지, 제292조와 제294조의 죄를 범한 사람이 약취, 유인, 매매 또는 이송된 사람을 안전한 장소로 풀어준 때에는 그 형을 감경할 수 있다.\\n\\n[전문개정 2013. 4. 5.]\\n\\n\\n\\n제296조(예비, 음모) 제287조부터 제289조까지, 제290조제1항, 제291조제1항과 제292조제1항의 죄를 범할 목적으로 예비 또는 음모한 사람은 3년 이하의 징역에 처한다.\\n\\n[본조신설 2013. 4. 5.]\\n\\n\\n\\n제296조의2(세계주의) 제287조부터 제292조까지 및 제294조는 대한민국 영역 밖에서 죄를 범한 외국인에게도 적용한다.\\n\\n[본조신설 2013. 4. 5.]\\n\\n\\n\\n제32장 강간과 추행의 죄 <개정 1995. 12. 29.>\\n\\n\\n\\n제297조(강간) 폭행 또는 협박으로 사람을 강간한 자는 3년 이상의 유기징역에 처한다. <개정 2012. 12. 18.>\\n\\n\\n\\n제297조의2(유사강간) 폭행 또는 협박으로 사람에 대하여 구강, 항문 등 신체(성기는 제외한다)의 내부에 성기를 넣거나 성기, 항문에 손가락 등 신체(성기는 제외한다)의 일부 또는 도구를 넣는 행위를 한 사람은 2년 이상의 유기징역에 처한다.\\n\\n[본조신설 2012. 12. 18.]\\n\\n\\n\\n제298조(강제추행) 폭행 또는 협박으로 사람에 대하여 추행을 한 자는 10년 이하의 징역 또는 1천500만원 이하의 벌금에 처한다. <개정 1995. 12. 29.>')"
      ]
     },
     "execution_count": 12,
     "metadata": {},
     "output_type": "execute_result"
    }
   ],
   "source": [
    "document_list[len_list - 10]"
   ]
  },
  {
   "cell_type": "code",
   "execution_count": 13,
   "metadata": {},
   "outputs": [],
   "source": [
    "from dotenv import load_dotenv\n",
    "from langchain_openai import OpenAIEmbeddings\n",
    "\n",
    "load_dotenv()\n",
    "\n",
    "embedding = OpenAIEmbeddings(model='text-embedding-3-large')"
   ]
  },
  {
   "cell_type": "code",
   "execution_count": 14,
   "metadata": {},
   "outputs": [],
   "source": [
    "import os\n",
    "\n",
    "from pinecone import Pinecone\n",
    "from langchain_pinecone import PineconeVectorStore\n",
    "\n",
    "is_create = False\n",
    "# 민법\n",
    "# index_name = 'civil-markdown-index'\n",
    "# 형법\n",
    "index_name = 'criminal-markdown-index'\n",
    "\n",
    "pinecone_api_key = os.environ.get(\"PINECONE_API_KEY\")\n",
    "pc = Pinecone(api_key=pinecone_api_key)\n",
    "\n",
    "if is_create:\n",
    "    # 데이터를 추가할 때\n",
    "    database = PineconeVectorStore.from_documents(document_list, embedding, index_name=index_name)\n",
    "else:\n",
    "    # 이미 생성된 데이터베이스를 사용할 때 \n",
    "    database = PineconeVectorStore.from_existing_index(index_name=index_name, embedding=embedding)"
   ]
  },
  {
   "cell_type": "code",
   "execution_count": 15,
   "metadata": {},
   "outputs": [],
   "source": [
    "# 민법\n",
    "# query = '부동산 매매 계약에서의 소유 이전은 어떻게 이루어지나요?'\n",
    "# 형법\n",
    "query = '소유권 이전 과정에서 허위 서류를 제출한 경우, 이는 어떤 형법적 처벌을 받을 수 있나요?'"
   ]
  },
  {
   "cell_type": "markdown",
   "metadata": {},
   "source": [
    "# 3. 답변 생성을 위한 Retrieval"
   ]
  },
  {
   "cell_type": "markdown",
   "metadata": {},
   "source": [
    "- RetrievalQA에 전달하기 위해 retriever 생성\n",
    "- search_kwargs의 k값을 변경해서 가져올 문서의 갯수를 지정할 수 있음\n",
    "- .invoke()를 호출해서 어떤 문서를 가져오는지 확인 가능"
   ]
  },
  {
   "cell_type": "code",
   "execution_count": 16,
   "metadata": {},
   "outputs": [
    {
     "data": {
      "text/plain": [
       "[Document(metadata={'source': './criminal_with_markdown.docx'}, page_content='[전문개정 1995. 12. 29.]\\n\\n\\n\\n제222조(인지ㆍ우표유사물의 제조 등) ①판매할 목적으로 대한민국 또는 외국의 공채증서, 인지, 우표 기타 우편요금을 표시하는 증표와 유사한 물건을 제조, 수입 또는 수출한 자는 2년 이하의 징역 또는 500만원 이하의 벌금에 처한다. <개정 1995. 12. 29.>\\n\\n②전항의 물건을 판매한 자도 전항의 형과 같다.\\n\\n[제목개정 1995. 12. 29.]\\n\\n\\n\\n제223조(미수범) 제214조 내지 제219조와 전조의 미수범은 처벌한다.\\n\\n\\n\\n제224조(예비, 음모) 제214조, 제215조와 제218조제1항의 죄를 범할 목적으로 예비 또는 음모한 자는 2년 이하의 징역에 처한다.\\n\\n\\n\\n제20장 문서에 관한 죄\\n\\n\\n\\n제225조(공문서등의 위조ㆍ변조) 행사할 목적으로 공무원 또는 공무소의 문서 또는 도화를 위조 또는 변조한 자는 10년 이하의 징역에 처한다. <개정 1995. 12. 29.>\\n\\n\\n\\n제226조(자격모용에 의한 공문서 등의 작성) 행사할 목적으로 공무원 또는 공무소의 자격을 모용하여 문서 또는 도화를 작성한 자는 10년 이하의 징역에 처한다. <개정 1995. 12. 29.>\\n\\n\\n\\n제227조(허위공문서작성등) 공무원이 행사할 목적으로 그 직무에 관하여 문서 또는 도화를 허위로 작성하거나 변개한 때에는 7년 이하의 징역 또는 2천만원 이하의 벌금에 처한다.\\n\\n[전문개정 1995. 12. 29.]\\n\\n\\n\\n제227조의2(공전자기록위작ㆍ변작) 사무처리를 그르치게 할 목적으로 공무원 또는 공무소의 전자기록등 특수매체기록을 위작 또는 변작한 자는 10년 이하의 징역에 처한다.\\n\\n[본조신설 1995. 12. 29.]\\n\\n\\n\\n제228조(공정증서원본 등의 부실기재) ①공무원에 대하여 허위신고를 하여 공정증서원본 또는 이와 동일한 전자기록등 특수매체기록에 부실의 사실을 기재 또는 기록하게 한 자는 5년 이하의 징역 또는 1천만원 이하의 벌금에 처한다. <개정 1995. 12. 29.>\\n\\n②공무원에 대하여 허위신고를 하여 면허증, 허가증, 등록증 또는 여권에 부실의 사실을 기재하게 한 자는 3년 이하의 징역 또는 700만원 이하의 벌금에 처한다.<개정 1995. 12. 29.>\\n\\n\\n\\n제229조(위조등 공문서의 행사) 제225조 내지 제228조의 죄에 의하여 만들어진 문서, 도화, 전자기록등 특수매체기록, 공정증서원본, 면허증, 허가증, 등록증 또는 여권을 행사한 자는 그 각 죄에 정한 형에 처한다.\\n\\n[전문개정 1995. 12. 29.]\\n\\n\\n\\n제230조(공문서 등의 부정행사) 공무원 또는 공무소의 문서 또는 도화를 부정행사한 자는 2년 이하의 징역이나 금고 또는 500만원 이하의 벌금에 처한다. <개정 1995. 12. 29.>\\n\\n\\n\\n제231조(사문서등의 위조ㆍ변조) 행사할 목적으로 권리ㆍ의무 또는 사실증명에 관한 타인의 문서 또는 도화를 위조 또는 변조한 자는 5년 이하의 징역 또는 1천만원 이하의 벌금에 처한다. <개정 1995. 12. 29.>\\n\\n[제목개정 1995. 12. 29.]'),\n",
       " Document(metadata={'source': './criminal_with_markdown.docx'}, page_content='제231조(사문서등의 위조ㆍ변조) 행사할 목적으로 권리ㆍ의무 또는 사실증명에 관한 타인의 문서 또는 도화를 위조 또는 변조한 자는 5년 이하의 징역 또는 1천만원 이하의 벌금에 처한다. <개정 1995. 12. 29.>\\n\\n[제목개정 1995. 12. 29.]\\n\\n\\n\\n제232조(자격모용에 의한 사문서의 작성) 행사할 목적으로 타인의 자격을 모용하여 권리ㆍ의무 또는 사실증명에 관한 문서 또는 도화를 작성한 자는 5년 이하의 징역 또는 1천만원 이하의 벌금에 처한다. <개정 1995. 12. 29.>\\n\\n\\n\\n제232조의2(사전자기록위작ㆍ변작) 사무처리를 그르치게 할 목적으로 권리ㆍ의무 또는 사실증명에 관한 타인의 전자기록등 특수매체기록을 위작 또는 변작한 자는 5년 이하의 징역 또는 1천만원 이하의 벌금에 처한다.\\n\\n[본조신설 1995. 12. 29.]\\n\\n\\n\\n제233조(허위진단서등의 작성) 의사, 한의사, 치과의사 또는 조산사가 진단서, 검안서 또는 생사에 관한 증명서를 허위로 작성한 때에는 3년 이하의 징역이나 금고, 7년 이하의 자격정지 또는 3천만원 이하의 벌금에 처한다.\\n\\n[전문개정 1995. 12. 29.]\\n\\n\\n\\n제234조(위조사문서등의 행사) 제231조 내지 제233조의 죄에 의하여 만들어진 문서, 도화 또는 전자기록등 특수매체기록을 행사한 자는 그 각 죄에 정한 형에 처한다.\\n\\n[전문개정 1995. 12. 29.]\\n\\n\\n\\n제235조(미수범) 제225조 내지 제234조의 미수범은 처벌한다. <개정 1995. 12. 29.>\\n\\n\\n\\n제236조(사문서의 부정행사) 권리ㆍ의무 또는 사실증명에 관한 타인의 문서 또는 도화를 부정행사한 자는 1년 이하의 징역이나 금고 또는 300만원 이하의 벌금에 처한다. <개정 1995. 12. 29.>\\n\\n\\n\\n제237조(자격정지의 병과) 제225조 내지 제227조의2 및 그 행사죄를 범하여 징역에 처할 경우에는 10년 이하의 자격정지를 병과할 수 있다. <개정 1995. 12. 29.>\\n\\n\\n\\n제237조의2(복사문서등) 이 장의 죄에 있어서 전자복사기, 모사전송기 기타 이와 유사한 기기를 사용하여 복사한 문서 또는 도화의 사본도 문서 또는 도화로 본다.\\n\\n[본조신설 1995. 12. 29.]\\n\\n\\n\\n제21장 인장에 관한 죄\\n\\n\\n\\n제238조(공인 등의 위조, 부정사용) ①행사할 목적으로 공무원 또는 공무소의 인장, 서명, 기명  또는 기호를 위조 또는 부정사용한 자는 5년 이하의 징역에 처한다.\\n\\n②위조 또는 부정사용한 공무원 또는 공무소의 인장, 서명, 기명 또는 기호를 행사한 자도 전항의 형과 같다.\\n\\n③전 2항의 경우에는 7년 이하의 자격정지를 병과할 수 있다.\\n\\n\\n\\n제239조(사인등의 위조, 부정사용) ①행사할 목적으로 타인의 인장, 서명, 기명 또는 기호를 위조 또는 부정사용한 자는 3년 이하의 징역에 처한다.\\n\\n②위조 또는 부정사용한 타인의 인장, 서명, 기명 또는 기호를 행사한 때에도 전항의 형과 같다.\\n\\n\\n\\n제240조(미수범) 본장의 미수범은 처벌한다.'),\n",
       " Document(metadata={'source': './criminal_with_markdown.docx'}, page_content='②전항의 물건을 판매한 자도 전항의 형과 같다.\\n\\n\\n\\n제212조(미수범) 제207조, 제208조와 전조의 미수범은 처벌한다.\\n\\n\\n\\n제213조(예비, 음모) 제207조제1항 내지 제3항의 죄를 범할 목적으로 예비 또는 음모한 자는 5년 이하의 징역에 처한다. 단, 그 목적한 죄의 실행에 이르기 전에 자수한 때에는 그 형을 감경 또는 면제한다.\\n\\n\\n\\n제19장 유가증권, 우표와 인지에 관한 죄\\n\\n\\n\\n제214조(유가증권의 위조 등) ①행사할 목적으로 대한민국 또는 외국의 공채증서 기타 유가증권을 위조 또는 변조한 자는 10년 이하의 징역에 처한다.\\n\\n②행사할 목적으로 유가증권의 권리의무에 관한 기재를 위조 또는 변조한 자도 전항의 형과 같다.\\n\\n\\n\\n제215조(자격모용에 의한 유가증권의 작성) 행사할 목적으로 타인의 자격을 모용하여 유가증권을 작성하거나 유가증권의 권리 또는 의무에 관한 사항을 기재한 자는 10년 이하의 징역에 처한다.\\n\\n\\n\\n제216조(허위유가증권의 작성 등) 행사할 목적으로 허위의 유가증권을 작성하거나 유가증권에 허위사항을 기재한 자는 7년 이하의 징역 또는 3천만원 이하의 벌금에 처한다. <개정 1995. 12. 29.>\\n\\n\\n\\n제217조(위조유가증권 등의 행사 등) 위조, 변조, 작성 또는 허위기재한 전3조 기재의 유가증권을 행사하거나 행사할 목적으로 수입 또는 수출한 자는 10년 이하의 징역에 처한다.\\n\\n\\n\\n제218조(인지ㆍ우표의 위조등) ①행사할 목적으로 대한민국 또는 외국의 인지, 우표 기타 우편요금을 표시하는 증표를 위조 또는 변조한 자는 10년 이하의 징역에 처한다. <개정 1995. 12. 29.>\\n\\n②위조 또는 변조된 대한민국 또는 외국의 인지, 우표 기타 우편요금을 표시하는 증표를 행사하거나 행사할 목적으로 수입 또는 수출한 자도 제1항의 형과 같다.<개정 1995. 12. 29.>\\n\\n[제목개정 1995. 12. 29.]\\n\\n\\n\\n제219조(위조인지ㆍ우표등의 취득) 행사할 목적으로 위조 또는 변조한 대한민국 또는 외국의 인지, 우표 기타 우편요금을 표시하는 증표를 취득한 자는 3년 이하의 징역 또는 1천만원 이하의 벌금에 처한다. <개정 1995. 12. 29.>\\n\\n\\n\\n제220조(자격정지 또는 벌금의 병과) 제214조 내지 제219조의 죄를 범하여 징역에 처하는 경우에는 10년 이하의 자격정지 또는 2천만원 이하의 벌금을 병과할 수 있다.\\n\\n[전문개정 1995. 12. 29.]\\n\\n\\n\\n제221조(소인말소) 행사할 목적으로 대한민국 또는 외국의 인지, 우표 기타 우편요금을 표시하는 증표의 소인 기타 사용의 표지를 말소한 자는 1년 이하의 징역 또는 300만원 이하의 벌금에 처한다.\\n\\n[전문개정 1995. 12. 29.]\\n\\n\\n\\n제222조(인지ㆍ우표유사물의 제조 등) ①판매할 목적으로 대한민국 또는 외국의 공채증서, 인지, 우표 기타 우편요금을 표시하는 증표와 유사한 물건을 제조, 수입 또는 수출한 자는 2년 이하의 징역 또는 500만원 이하의 벌금에 처한다. <개정 1995. 12. 29.>'),\n",
       " Document(metadata={'source': './criminal_with_markdown.docx'}, page_content='제346조(동력) 본장의 죄에 있어서 관리할 수 있는 동력은 재물로 간주한다.\\n\\n\\n\\n제39장 사기와 공갈의 죄\\n\\n\\n\\n제347조(사기) ①사람을 기망하여 재물의 교부를 받거나 재산상의 이익을 취득한 자는 10년 이하의 징역 또는 2천만원 이하의 벌금에 처한다. <개정 1995. 12. 29.>\\n\\n②전항의 방법으로 제삼자로 하여금 재물의 교부를 받게 하거나 재산상의 이익을 취득하게 한 때에도 전항의 형과 같다.\\n\\n\\n\\n제347조의2(컴퓨터등 사용사기) 컴퓨터등 정보처리장치에 허위의 정보 또는 부정한 명령을 입력하거나 권한 없이 정보를 입력ㆍ변경하여 정보처리를 하게 함으로써 재산상의 이익을 취득하거나 제3자로 하여금 취득하게 한 자는 10년 이하의 징역 또는 2천만원 이하의 벌금에 처한다.\\n\\n[전문개정 2001. 12. 29.]\\n\\n\\n\\n제348조(준사기) ① 미성년자의 사리분별력 부족 또는 사람의 심신장애를 이용하여 재물을 교부받거나 재산상 이익을 취득한 자는 10년 이하의 징역 또는 2천만원 이하의 벌금에 처한다.\\n\\n② 제1항의 방법으로 제3자로 하여금 재물을 교부받게 하거나 재산상 이익을 취득하게 한 경우에도 제1항의 형에 처한다.\\n\\n[전문개정 2020. 12. 8.]\\n\\n\\n\\n제348조의2(편의시설부정이용) 부정한 방법으로 대가를 지급하지 아니하고 자동판매기, 공중전화 기타 유료자동설비를 이용하여 재물 또는 재산상의 이익을 취득한 자는 3년 이하의 징역, 500만원 이하의 벌금, 구류 또는 과료에 처한다.\\n\\n[본조신설 1995. 12. 29.]\\n\\n\\n\\n제349조(부당이득) ① 사람의 곤궁하고 절박한 상태를 이용하여 현저하게 부당한 이익을 취득한 자는 3년 이하의 징역 또는 1천만원 이하의 벌금에 처한다.\\n\\n② 제1항의 방법으로 제3자로 하여금 부당한 이익을 취득하게 한 경우에도 제1항의 형에 처한다.\\n\\n[전문개정 2020. 12. 8.]\\n\\n\\n\\n제350조(공갈) ①사람을 공갈하여 재물의 교부를 받거나 재산상의 이익을 취득한 자는 10년 이하의 징역 또는 2천만원 이하의 벌금에 처한다. <개정 1995. 12. 29.>\\n\\n②전항의 방법으로 제삼자로 하여금 재물의 교부를 받게 하거나 재산상의 이익을 취득하게 한 때에도 전항의 형과 같다.\\n\\n\\n\\n제350조의2(특수공갈) 단체 또는 다중의 위력을 보이거나 위험한 물건을 휴대하여 제350조의 죄를 범한 자는 1년 이상 15년 이하의 징역에 처한다.\\n\\n[본조신설 2016. 1. 6.]\\n\\n\\n\\n제351조(상습범) 상습으로 제347조 내지 전조의 죄를 범한 자는 그 죄에 정한 형의 2분의 1까지 가중한다.\\n\\n\\n\\n제352조(미수범) 제347조 내지 제348조의2, 제350조, 제350조의2와 제351조의 미수범은 처벌한다. <개정 2016. 1. 6.>\\n\\n[전문개정 1995. 12. 29.]\\n\\n\\n\\n제353조(자격정지의 병과) 본장의 죄에는 10년 이하의 자격정지를 병과할 수 있다.\\n\\n\\n\\n제354조(친족간의 범행, 동력) 제328조와 제346조의 규정은 본장의 죄에 준용한다.\\n\\n\\n\\n제40장 횡령과 배임의 죄')]"
      ]
     },
     "execution_count": 16,
     "metadata": {},
     "output_type": "execute_result"
    }
   ],
   "source": [
    "retriever = database.as_retriever(search_kwargs={'k': 4})\n",
    "retriever.invoke(query)"
   ]
  },
  {
   "cell_type": "markdown",
   "metadata": {},
   "source": [
    "# 4. Augmentation을 위한 Prompt 활용"
   ]
  },
  {
   "cell_type": "markdown",
   "metadata": {},
   "source": [
    "- Retrieval 된 데이터는 LangChain에서 제공하는 프롬프트(\"rlm/rag-prompt\") 사용"
   ]
  },
  {
   "cell_type": "code",
   "execution_count": 17,
   "metadata": {},
   "outputs": [],
   "source": [
    "from langchain import hub\n",
    "\n",
    "prompt = hub.pull(\"rlm/rag-prompt\")"
   ]
  },
  {
   "cell_type": "markdown",
   "metadata": {},
   "source": [
    "# 5. 답변 생성"
   ]
  },
  {
   "cell_type": "markdown",
   "metadata": {},
   "source": [
    "- RetrievalQA를 통해 LLM에 전달\n",
    "    - RetrievalQA는 create_retrieval_chain으로 대체됨\n",
    "    - 실제 ChatBot 구현 시 create_retrieval_chain으로 변경하는 과정을 볼 수 있음\n",
    "- 하단의 dictionary_chain과 연계하여 사용"
   ]
  },
  {
   "cell_type": "code",
   "execution_count": 18,
   "metadata": {},
   "outputs": [],
   "source": [
    "from langchain_openai import ChatOpenAI\n",
    "\n",
    "llm = ChatOpenAI(model='gpt-4o')"
   ]
  },
  {
   "cell_type": "code",
   "execution_count": 19,
   "metadata": {},
   "outputs": [],
   "source": [
    "from langchain.chains import RetrievalQA\n",
    "\n",
    "qa_chain = RetrievalQA.from_chain_type(\n",
    "    llm,\n",
    "    retriever=retriever,\n",
    "    chain_type_kwargs={\"prompt\": prompt}\n",
    ")"
   ]
  },
  {
   "cell_type": "code",
   "execution_count": 20,
   "metadata": {},
   "outputs": [],
   "source": [
    "ai_message = qa_chain.invoke({\"query\": query})"
   ]
  },
  {
   "cell_type": "code",
   "execution_count": 21,
   "metadata": {},
   "outputs": [
    {
     "data": {
      "text/plain": [
       "{'query': '소유권 이전 과정에서 허위 서류를 제출한 경우, 이는 어떤 형법적 처벌을 받을 수 있나요?',\n",
       " 'result': '소유권 이전 과정에서 허위 서류를 제출한 경우, 이는 형법 제228조에 따라 5년 이하의 징역 또는 1천만원 이하의 벌금에 처할 수 있습니다.'}"
      ]
     },
     "execution_count": 21,
     "metadata": {},
     "output_type": "execute_result"
    }
   ],
   "source": [
    "ai_message"
   ]
  },
  {
   "cell_type": "markdown",
   "metadata": {},
   "source": [
    "# 6. Retrieval을 위한 keyword 사전 활용"
   ]
  },
  {
   "cell_type": "markdown",
   "metadata": {},
   "source": [
    "- Knowledge Base에서 사용되는 keyword를 활용하여 사용자 질문 수정\n",
    "- LangChain Expression Language (LCEL)을 활용한 Chain 연계"
   ]
  },
  {
   "cell_type": "code",
   "execution_count": 22,
   "metadata": {},
   "outputs": [],
   "source": [
    "from langchain_core.output_parsers import StrOutputParser\n",
    "from langchain_core.prompts import ChatPromptTemplate\n",
    "\n",
    "# 민법\n",
    "# dictionary = [\n",
    "#     \"사람을 나타내는 표현 -> 개인\",\n",
    "#     \"재산의 이전을 나타내는 표현 -> 양도\",\n",
    "#     \"결혼을 나타내는 표현 -> 배우자 관계\",\n",
    "#     \"법적 책임을 나타내는 표현 -> 책임\",\n",
    "#     \"계약의 당사자를 나타내는 표현 -> 계약 당사자\"\n",
    "# ]\n",
    "# 형법\n",
    "dictionary = [\n",
    "    \"범죄를 나타내는 표현 -> 범죄\",\n",
    "    \"범죄의 피해자를 나타내는 표현 -> 피해자\",\n",
    "    \"형벌을 나타내는 표현 -> 형벌\",\n",
    "    \"공범을 나타내는 표현 -> 공범\",\n",
    "    \"고의성을 나타내는 표현 -> 고의\",\n",
    "    \"과실을 나타내는 표현 -> 과실\",\n",
    "    \"변호권을 나타내는 표현 -> 변호권\",\n",
    "    \"구속을 나타내는 표현 -> 구속\",\n",
    "    \"재판을 나타내는 표현 -> 재판\",\n",
    "    \"형의 집행을 나타내는 표현 -> 형 집행\",\n",
    "    \"보호관찰을 나타내는 표현 -> 보호관찰\",\n",
    "    \"자백을 나타내는 표현 -> 자백\",\n",
    "    \"증거를 나타내는 표현 -> 증거\",\n",
    "    \"형사 고소를 나타내는 표현 -> 고소\",\n",
    "    \"형사 기소를 나타내는 표현 -> 기소\",\n",
    "    \"불법 행위를 나타내는 표현 -> 불법 행위\",\n",
    "    \"유죄를 나타내는 표현 -> 유죄\",\n",
    "    \"무죄를 나타내는 표현 -> 무죄\",\n",
    "    \"혐의를 나타내는 표현 -> 혐의\",\n",
    "    \"집행유예를 나타내는 표현 -> 집행유예\"\n",
    "]\n",
    "\n",
    "prompt = ChatPromptTemplate.from_template(f\"\"\"\n",
    "    사용자의 질문을 보고, 우리의 사전을 참고해서 사용자의 질문을 변경해주세요.\n",
    "    만약 변경할 필요가 없다고 판단된다면, 사용자의 질문을 변경하지 않아도 됩니다.\n",
    "    그런 경우에는 질문만 리턴해주세요.\n",
    "    사전: {dictionary}\n",
    "\n",
    "    질문: {{question}}\n",
    "\"\"\")\n",
    "\n",
    "dictionary_chain = prompt | llm | StrOutputParser()"
   ]
  },
  {
   "cell_type": "code",
   "execution_count": 23,
   "metadata": {},
   "outputs": [],
   "source": [
    "new_question = dictionary_chain.invoke({\"question\": query})"
   ]
  },
  {
   "cell_type": "code",
   "execution_count": 24,
   "metadata": {},
   "outputs": [
    {
     "data": {
      "text/plain": [
       "'소유권 이전 과정에서 허위 서류를 제출한 경우, 이는 어떤 형벌을 받을 수 있나요?'"
      ]
     },
     "execution_count": 24,
     "metadata": {},
     "output_type": "execute_result"
    }
   ],
   "source": [
    "new_question"
   ]
  },
  {
   "cell_type": "code",
   "execution_count": 25,
   "metadata": {},
   "outputs": [],
   "source": [
    "tax_chain = {\"query\": dictionary_chain} | qa_chain"
   ]
  },
  {
   "cell_type": "code",
   "execution_count": 26,
   "metadata": {},
   "outputs": [],
   "source": [
    "ai_response = tax_chain.invoke({\"question\": query})"
   ]
  },
  {
   "cell_type": "code",
   "execution_count": 27,
   "metadata": {},
   "outputs": [
    {
     "data": {
      "text/plain": [
       "{'query': '소유권 이전 과정에서 허위 서류를 제출한 경우, 이는 어떤 형벌을 받을 수 있나요?',\n",
       " 'result': '소유권 이전 과정에서 허위 서류를 제출한 경우, 5년 이하의 징역 또는 1천만원 이하의 벌금에 처할 수 있습니다. 이는 제228조(공정증서원본 등의 부실기재)에 해당합니다.'}"
      ]
     },
     "execution_count": 27,
     "metadata": {},
     "output_type": "execute_result"
    }
   ],
   "source": [
    "ai_response"
   ]
  },
  {
   "cell_type": "code",
   "execution_count": null,
   "metadata": {},
   "outputs": [],
   "source": []
  }
 ],
 "metadata": {
  "kernelspec": {
   "display_name": "inflearn-llm-application",
   "language": "python",
   "name": "python3"
  },
  "language_info": {
   "codemirror_mode": {
    "name": "ipython",
    "version": 3
   },
   "file_extension": ".py",
   "mimetype": "text/x-python",
   "name": "python",
   "nbconvert_exporter": "python",
   "pygments_lexer": "ipython3",
   "version": "3.12.4"
  }
 },
 "nbformat": 4,
 "nbformat_minor": 2
}
