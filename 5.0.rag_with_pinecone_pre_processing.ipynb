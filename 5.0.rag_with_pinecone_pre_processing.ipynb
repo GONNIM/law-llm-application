{
 "cells": [
  {
   "cell_type": "markdown",
   "metadata": {},
   "source": [
    "# 1. Package 설치"
   ]
  },
  {
   "cell_type": "code",
   "execution_count": null,
   "metadata": {},
   "outputs": [],
   "source": [
    "%pip install langchain langchain-core langchain-community langchain-text-splitters langchain-openai langchain-pinecone"
   ]
  },
  {
   "cell_type": "markdown",
   "metadata": {},
   "source": [
    "# 2. Knowledge Base 구성을 위한 데이터 생성"
   ]
  },
  {
   "cell_type": "markdown",
   "metadata": {},
   "source": [
    "- 4. LangChain을 활용한 Vector Database 변경 (Chroma -> Pinecone)과 동일함"
   ]
  },
  {
   "cell_type": "code",
   "execution_count": 13,
   "metadata": {},
   "outputs": [],
   "source": [
    "from langchain_community.document_loaders import Docx2txtLoader\n",
    "from langchain_text_splitters import RecursiveCharacterTextSplitter\n",
    "\n",
    "text_splitter = RecursiveCharacterTextSplitter(\n",
    "    chunk_size=1500,\n",
    "    chunk_overlap=200,\n",
    ")\n",
    "\n",
    "# 소득세법\n",
    "# document_name = './tax_with_markdown.docx'\n",
    "# 민법\n",
    "# document_name = './civil_with_markdown.docx'\n",
    "# 형법\n",
    "# document_name = './criminal_with_markdown.docx'\n",
    "# 도로교통법\n",
    "# document_name = './traffic_with_markdown.docx'\n",
    "# 근로기준법\n",
    "document_name = './labor_with_markdown.docx'\n",
    "\n",
    "loader = Docx2txtLoader(document_name)\n",
    "document_list = loader.load_and_split(text_splitter=text_splitter)"
   ]
  },
  {
   "cell_type": "code",
   "execution_count": 14,
   "metadata": {},
   "outputs": [
    {
     "data": {
      "text/plain": [
       "29"
      ]
     },
     "execution_count": 14,
     "metadata": {},
     "output_type": "execute_result"
    }
   ],
   "source": [
    "len_list = len(document_list)\n",
    "len_list"
   ]
  },
  {
   "cell_type": "code",
   "execution_count": 15,
   "metadata": {},
   "outputs": [
    {
     "data": {
      "text/plain": [
       "Document(metadata={'source': './labor_with_markdown.docx'}, page_content='제70조(야간근로와 휴일근로의 제한) ① 사용자는 18세 이상의 여성을 오후 10시부터 오전 6시까지의 시간 및 휴일에 근로시키려면 그 근로자의 동의를 받아야 한다.\\n\\n② 사용자는 임산부와 18세 미만자를 오후 10시부터 오전 6시까지의 시간 및 휴일에 근로시키지 못한다. 다만, 다음 각 호의 어느 하나에 해당하는 경우로서 고용노동부장관의 인가를 받으면 그러하지 아니하다.<개정 2010. 6. 4.>\\n\\n1. 18세 미만자의 동의가 있는 경우\\n\\n2. 산후 1년이 지나지 아니한 여성의 동의가 있는 경우\\n\\n3. 임신 중의 여성이 명시적으로 청구하는 경우\\n\\n③ 사용자는 제2항의 경우 고용노동부장관의 인가를 받기 전에 근로자의 건강 및 모성 보호를 위하여 그 시행 여부와 방법 등에 관하여 그 사업 또는 사업장의 근로자대표와 성실하게 협의하여야 한다.<개정 2010. 6. 4.>\\n\\n\\n\\n제71조(시간외근로) 사용자는 산후 1년이 지나지 아니한 여성에 대하여는 단체협약이 있는 경우라도 1일에 2시간, 1주에 6시간, 1년에 150시간을 초과하는 시간외근로를 시키지 못한다. <개정 2018. 3. 20.>\\n\\n\\n\\n제72조(갱내근로의 금지) 사용자는 여성과 18세 미만인 사람을 갱내(坑內)에서 근로시키지 못한다. 다만, 보건ㆍ의료, 보도ㆍ취재 등 대통령령으로 정하는 업무를 수행하기 위하여 일시적으로 필요한 경우에는 그러하지 아니하다. <개정 2020. 5. 26.>\\n\\n\\n\\n제73조(생리휴가) 사용자는 여성 근로자가 청구하면 월 1일의 생리휴가를 주어야 한다.\\n\\n\\n\\n제74조(임산부의 보호) ① 사용자는 임신 중의 여성에게 출산 전과 출산 후를 통하여 90일(한 번에 둘 이상 자녀를 임신한 경우에는 120일)의 출산전후휴가를 주어야 한다. 이 경우 휴가 기간의 배정은 출산 후에 45일(한 번에 둘 이상 자녀를 임신한 경우에는 60일) 이상이 되어야 한다. <개정 2012. 2. 1., 2014. 1. 21.>\\n\\n② 사용자는 임신 중인 여성 근로자가 유산의 경험 등 대통령령으로 정하는 사유로 제1항의 휴가를 청구하는 경우 출산 전 어느 때 라도 휴가를 나누어 사용할 수 있도록 하여야 한다. 이 경우 출산 후의 휴가 기간은 연속하여 45일(한 번에 둘 이상 자녀를 임신한 경우에는 60일) 이상이 되어야 한다.<신설 2012. 2. 1., 2014. 1. 21.>\\n\\n③ 사용자는 임신 중인 여성이 유산 또는 사산한 경우로서 그 근로자가 청구하면 대통령령으로 정하는 바에 따라 유산ㆍ사산 휴가를 주어야 한다. 다만, 인공 임신중절 수술(「모자보건법」 제14조제1항에 따른 경우는 제외한다)에 따른 유산의 경우는 그러하지 아니하다.<개정 2012. 2. 1.>')"
      ]
     },
     "execution_count": 15,
     "metadata": {},
     "output_type": "execute_result"
    }
   ],
   "source": [
    "document_list[len_list - 10]"
   ]
  },
  {
   "cell_type": "code",
   "execution_count": 16,
   "metadata": {},
   "outputs": [],
   "source": [
    "from dotenv import load_dotenv\n",
    "from langchain_openai import OpenAIEmbeddings\n",
    "\n",
    "load_dotenv()\n",
    "\n",
    "embedding = OpenAIEmbeddings(model='text-embedding-3-large')"
   ]
  },
  {
   "cell_type": "code",
   "execution_count": null,
   "metadata": {},
   "outputs": [],
   "source": [
    "%pip install --upgrade jupyter"
   ]
  },
  {
   "cell_type": "code",
   "execution_count": null,
   "metadata": {},
   "outputs": [],
   "source": [
    "%pip install --upgrade ipywidgets"
   ]
  },
  {
   "cell_type": "code",
   "execution_count": 17,
   "metadata": {},
   "outputs": [],
   "source": [
    "import os\n",
    "\n",
    "from pinecone import Pinecone\n",
    "from langchain_pinecone import PineconeVectorStore\n",
    "\n",
    "is_create = False\n",
    "# 소득세법\n",
    "# index_name = 'tax-markdown-index'\n",
    "# 민법\n",
    "# index_name = 'civil-markdown-index'\n",
    "# 형법\n",
    "# index_name = 'criminal-markdown-index'\n",
    "# 도로교통법\n",
    "# index_name = 'traffic-markdown-index'\n",
    "# 도로교통법\n",
    "index_name = 'labor-markdown-index'\n",
    "\n",
    "pinecone_api_key = os.environ.get(\"PINECONE_API_KEY\")\n",
    "pc = Pinecone(api_key=pinecone_api_key)\n",
    "\n",
    "# 데이터를 추가할 때는 `from_documents()` 데이터를 추가한 이후에는 `from_existing_index()`를 사용합니다\n",
    "if is_create:\n",
    "    database = PineconeVectorStore.from_documents(document_list, embedding, index_name=index_name)\n",
    "else:\n",
    "    database = PineconeVectorStore.from_existing_index(index_name=index_name, embedding=embedding)"
   ]
  },
  {
   "cell_type": "code",
   "execution_count": 18,
   "metadata": {},
   "outputs": [],
   "source": [
    "# 소득세법\n",
    "# query = '연봉 5천만원인 직장인의 소득세는?'\n",
    "# 민법\n",
    "# query = '부동산 매매 계약에서의 소유 이전은 어떻게 이루어지나요?'\n",
    "# 형법\n",
    "# query = '소유권 이전 과정에서 허위 서류를 제출한 경우, 이는 어떤 형법적 처벌을 받을 수 있나요?'\n",
    "# 도로교통법\n",
    "# query = '음주운전 단속 기준은 어떻게 되나요?'\n",
    "# 근로기준법\n",
    "query = '임금 체불 시 어떻게 대응해야 하나요?'"
   ]
  },
  {
   "cell_type": "markdown",
   "metadata": {},
   "source": [
    "# 3. 답변 생성을 위한 Retrieval"
   ]
  },
  {
   "cell_type": "markdown",
   "metadata": {},
   "source": [
    "- RetrievalQA에 전달하기 위해 retriever 생성\n",
    "- search_kwargs의 k값을 변경해서 가져올 문서의 갯수를 지정할 수 있음\n",
    "- .invoke()를 호출해서 어떤 문서를 가져오는지 확인 가능"
   ]
  },
  {
   "cell_type": "code",
   "execution_count": 19,
   "metadata": {},
   "outputs": [
    {
     "data": {
      "text/plain": [
       "[Document(metadata={'source': './labor_with_markdown.docx'}, page_content='2. 「민사집행법」 제56조제3호에 따른 확정된 지급명령, 하수급인의 근로자에게 하수급인에 대하여 임금채권이 있음을 증명하는 같은 법 제56조제4호에 따른 집행증서,「소액사건심판법」 제5조의7에 따라 확정된 이행권고결정, 그 밖에 이에 준하는 집행권원이 있는 경우\\n\\n3. 하수급인이 그가 사용한 근로자에 대하여 지급하여야 할 임금채무가 있음을 직상 수급인에게 알려주고, 직상 수급인이 파산 등의 사유로 하수급인이 임금을 지급할 수 없는 명백한 사유가 있다고 인정하는 경우\\n\\n② 「건설산업기본법」 제2조제10호에 따른 발주자의 수급인(이하 “원수급인”이라 한다)으로부터 공사도급이 2차례 이상 이루어진 경우로서 하수급인(도급받은 하수급인으로부터 재하도급 받은 하수급인을 포함한다. 이하 이 항에서 같다)이 사용한 근로자에게 그 하수급인에 대한 제1항제2호에 따른 집행권원이 있는 경우에는 근로자는 하수급인이 지급하여야 하는 임금(해당 건설공사에서 발생한 임금으로 한정한다)에 해당하는 금액을 원수급인에게 직접 지급할 것을 요구할 수 있다. 원수급인은 근로자가 자신에 대하여 「민법」 제404조에 따른 채권자대위권을 행사할 수 있는 금액의 범위에서 이에 따라야 한다.<개정 2011. 5. 24.>\\n\\n③ 직상 수급인 또는 원수급인이 제1항 및 제2항에 따라 하수급인이 사용한 근로자에게 임금에 해당하는 금액을 지급한 경우에는 하수급인에 대한 하도급 대금 채무는 그 범위에서 소멸한 것으로 본다.\\n\\n[본조신설 2007. 7. 27.]\\n\\n\\n\\n제45조(비상시 지급) 사용자는 근로자가 출산, 질병, 재해, 그 밖에 대통령령으로 정하는 비상(非常)한 경우의 비용에 충당하기 위하여 임금 지급을 청구하면 지급기일 전이라도 이미 제공한 근로에 대한 임금을 지급하여야 한다.\\n\\n\\n\\n제46조(휴업수당) ① 사용자의 귀책사유로 휴업하는 경우에 사용자는 휴업기간 동안 그 근로자에게 평균임금의 100분의 70 이상의 수당을 지급하여야 한다. 다만, 평균임금의 100분의 70에 해당하는 금액이 통상임금을 초과하는 경우에는 통상임금을 휴업수당으로 지급할 수 있다.\\n\\n② 제1항에도 불구하고 부득이한 사유로 사업을 계속하는 것이 불가능하여 노동위원회의 승인을 받은 경우에는 제1항의 기준에 못 미치는 휴업수당을 지급할 수 있다.\\n\\n\\n\\n제47조(도급 근로자) 사용자는 도급이나 그 밖에 이에 준하는 제도로 사용하는 근로자에게 근로시간에 따라 일정액의 임금을 보장하여야 한다.\\n\\n\\n\\n제48조(임금대장 및 임금명세서) ① 사용자는 각 사업장별로 임금대장을 작성하고 임금과 가족수당 계산의 기초가 되는 사항, 임금액, 그 밖에 대통령령으로 정하는 사항을 임금을 지급할 때마다 적어야 한다. <개정 2021. 5. 18.>'),\n",
       " Document(metadata={'source': './labor_with_markdown.docx'}, page_content='② 임금은 매월 1회 이상 일정한 날짜를 정하여 지급하여야 한다. 다만, 임시로 지급하는 임금, 수당, 그 밖에 이에 준하는 것 또는 대통령령으로 정하는 임금에 대하여는 그러하지 아니하다.\\n\\n\\n\\n제43조의2(체불사업주 명단 공개) ① 고용노동부장관은 제36조, 제43조, 제51조의3, 제52조제2항제2호, 제56조에 따른 임금, 보상금, 수당, 그 밖의 모든 금품(이하 “임금등”이라 한다)을 지급하지 아니한 사업주(법인인 경우에는 그 대표자를 포함한다. 이하 “체불사업주”라 한다)가 명단 공개 기준일 이전 3년 이내 임금등을 체불하여 2회 이상 유죄가 확정된 자로서 명단 공개 기준일 이전 1년 이내 임금등의 체불총액이 3천만원 이상인 경우에는 그 인적사항 등을 공개할 수 있다. 다만, 체불사업주의 사망ㆍ폐업으로 명단 공개의 실효성이 없는 경우 등 대통령령으로 정하는 사유가 있는 경우에는 그러하지 아니하다. <개정 2020. 5. 26., 2021. 1. 5.>\\n\\n② 고용노동부장관은 제1항에 따라 명단 공개를 할 경우에 체불사업주에게 3개월 이상의 기간을 정하여 소명 기회를 주어야 한다.\\n\\n③ 제1항에 따른 체불사업주의 인적사항 등에 대한 공개 여부를 심의하기 위하여 고용노동부에 임금체불정보심의위원회(이하 이 조에서 “위원회”라 한다)를 둔다. 이 경우 위원회의 구성ㆍ운영 등 필요한 사항은 고용노동부령으로 정한다.\\n\\n④ 제1항에 따른 명단 공개의 구체적인 내용, 기간 및 방법 등 명단 공개에 필요한 사항은 대통령령으로 정한다.\\n\\n[본조신설 2012. 2. 1.]\\n\\n\\n\\n제43조의3(임금등 체불자료의 제공) ① 고용노동부장관은 「신용정보의 이용 및 보호에 관한 법률」 제25조제2항제1호에 따른 종합신용정보집중기관이 임금등 체불자료 제공일 이전 3년 이내 임금등을 체불하여 2회 이상 유죄가 확정된 자로서 임금등 체불자료 제공일 이전 1년 이내 임금등의 체불총액이 2천만원 이상인 체불사업주의 인적사항과 체불액 등에 관한 자료(이하 “임금등 체불자료”라 한다)를 요구할 때에는 임금등의 체불을 예방하기 위하여 필요하다고 인정하는 경우에 그 자료를 제공할 수 있다. 다만, 체불사업주의 사망ㆍ폐업으로 임금등 체불자료 제공의 실효성이 없는 경우 등 대통령령으로 정하는 사유가 있는 경우에는 그러하지 아니하다.\\n\\n② 제1항에 따라 임금등 체불자료를 받은 자는 이를 체불사업주의 신용도ㆍ신용거래능력 판단과 관련한 업무 외의 목적으로 이용하거나 누설하여서는 아니 된다.\\n\\n③ 제1항에 따른 임금등 체불자료의 제공 절차 및 방법 등 임금등 체불자료의 제공에 필요한 사항은 대통령령으로 정한다.\\n\\n[본조신설 2012. 2. 1.]'),\n",
       " Document(metadata={'source': './labor_with_markdown.docx'}, page_content='② 제1항에 따라 임금등 체불자료를 받은 자는 이를 체불사업주의 신용도ㆍ신용거래능력 판단과 관련한 업무 외의 목적으로 이용하거나 누설하여서는 아니 된다.\\n\\n③ 제1항에 따른 임금등 체불자료의 제공 절차 및 방법 등 임금등 체불자료의 제공에 필요한 사항은 대통령령으로 정한다.\\n\\n[본조신설 2012. 2. 1.]\\n\\n\\n\\n제44조(도급 사업에 대한 임금 지급) ① 사업이 한 차례 이상의 도급에 따라 행하여지는 경우에 하수급인(下受給人)(도급이 한 차례에 걸쳐 행하여진 경우에는 수급인을 말한다)이 직상(直上) 수급인(도급이 한 차례에 걸쳐 행하여진 경우에는 도급인을 말한다)의 귀책사유로 근로자에게 임금을 지급하지 못한 경우에는 그 직상 수급인은 그 하수급인과 연대하여 책임을 진다. 다만, 직상 수급인의 귀책사유가 그 상위 수급인의 귀책사유에 의하여 발생한 경우에는 그 상위 수급인도 연대하여 책임을 진다. <개정 2012. 2. 1., 2020. 3. 31.>\\n\\n② 제1항의 귀책사유 범위는 대통령령으로 정한다.<개정 2012. 2. 1.>\\n\\n\\n\\n제44조의2(건설업에서의 임금 지급 연대책임) ① 건설업에서 사업이 2차례 이상 「건설산업기본법」 제2조제11호에 따른 도급(이하 “공사도급”이라 한다)이 이루어진 경우에 같은 법 제2조제7호에 따른 건설사업자가 아닌 하수급인이 그가 사용한 근로자에게 임금(해당 건설공사에서 발생한 임금으로 한정한다)을 지급하지 못한 경우에는 그 직상 수급인은 하수급인과 연대하여 하수급인이 사용한 근로자의 임금을 지급할 책임을 진다. <개정 2011. 5. 24., 2019. 4. 30.>\\n\\n② 제1항의 직상 수급인이 「건설산업기본법」 제2조제7호에 따른 건설사업자가 아닌 때에는 그 상위 수급인 중에서 최하위의 같은 호에 따른 건설사업자를 직상 수급인으로 본다.<개정 2011. 5. 24., 2019. 4. 30.>\\n\\n[본조신설 2007. 7. 27.]\\n\\n\\n\\n제44조의3(건설업의 공사도급에 있어서의 임금에 관한 특례) ① 공사도급이 이루어진 경우로서 다음 각 호의 어느 하나에 해당하는 때에는 직상 수급인은 하수급인에게 지급하여야 하는 하도급 대금 채무의 부담 범위에서 그 하수급인이 사용한 근로자가 청구하면 하수급인이 지급하여야 하는 임금(해당 건설공사에서 발생한 임금으로 한정한다)에 해당하는 금액을 근로자에게 직접 지급하여야 한다.\\n\\n1. 직상 수급인이 하수급인을 대신하여 하수급인이 사용한 근로자에게 지급하여야 하는 임금을 직접 지급할 수 있다는 뜻과 그 지급방법 및 절차에 관하여 직상 수급인과 하수급인이 합의한 경우\\n\\n2. 「민사집행법」 제56조제3호에 따른 확정된 지급명령, 하수급인의 근로자에게 하수급인에 대하여 임금채권이 있음을 증명하는 같은 법 제56조제4호에 따른 집행증서,「소액사건심판법」 제5조의7에 따라 확정된 이행권고결정, 그 밖에 이에 준하는 집행권원이 있는 경우'),\n",
       " Document(metadata={'source': './labor_with_markdown.docx'}, page_content='② 제1항은 사용자가 천재ㆍ사변, 그 밖에 대통령령으로 정하는 사유에 따라 임금 지급을 지연하는 경우 그 사유가 존속하는 기간에 대하여는 적용하지 아니한다.\\n\\n\\n\\n제38조(임금채권의 우선변제) ① 임금, 재해보상금, 그 밖에 근로 관계로 인한 채권은 사용자의 총재산에 대하여 질권(質權)ㆍ저당권 또는 「동산ㆍ채권 등의 담보에 관한 법률」에 따른 담보권에 따라 담보된 채권 외에는 조세ㆍ공과금 및 다른 채권에 우선하여 변제되어야 한다. 다만, 질권ㆍ저당권 또는 「동산ㆍ채권 등의 담보에 관한 법률」에 따른 담보권에 우선하는 조세ㆍ공과금에 대하여는 그러하지 아니하다. <개정 2010. 6. 10.>\\n\\n② 제1항에도 불구하고 다음 각 호의 어느 하나에 해당하는 채권은 사용자의 총재산에 대하여 질권ㆍ저당권 또는 「동산ㆍ채권 등의 담보에 관한 법률」에 따른 담보권에 따라 담보된 채권, 조세ㆍ공과금 및 다른 채권에 우선하여 변제되어야 한다.<개정 2010. 6. 10.>\\n\\n1. 최종 3개월분의 임금\\n\\n2. 재해보상금\\n\\n\\n\\n제39조(사용증명서) ① 사용자는 근로자가 퇴직한 후라도 사용 기간, 업무 종류, 지위와 임금, 그 밖에 필요한 사항에 관한 증명서를 청구하면 사실대로 적은 증명서를 즉시 내주어야 한다.\\n\\n② 제1항의 증명서에는 근로자가 요구한 사항만을 적어야 한다.\\n\\n\\n\\n제40조(취업 방해의 금지) 누구든지 근로자의 취업을 방해할 목적으로 비밀 기호 또는 명부를 작성ㆍ사용하거나 통신을 하여서는 아니 된다.\\n\\n\\n\\n제41조(근로자의 명부) ① 사용자는 각 사업장별로 근로자 명부를 작성하고 근로자의 성명, 생년월일, 이력, 그 밖에 대통령령으로 정하는 사항을 적어야 한다. 다만, 대통령령으로 정하는 일용근로자에 대해서는 근로자 명부를 작성하지 아니할 수 있다. <개정 2021. 1. 5.>\\n\\n② 제1항에 따라 근로자 명부에 적을 사항이 변경된 경우에는 지체 없이 정정하여야 한다.\\n\\n\\n\\n제42조(계약 서류의 보존) 사용자는 근로자 명부와 대통령령으로 정하는 근로계약에 관한 중요한 서류를 3년간 보존하여야 한다.\\n\\n\\n\\n제3장 임금\\n\\n\\n\\n제43조(임금 지급) ① 임금은 통화(通貨)로 직접 근로자에게 그 전액을 지급하여야 한다. 다만, 법령 또는 단체협약에 특별한 규정이 있는 경우에는 임금의 일부를 공제하거나 통화 이외의 것으로 지급할 수 있다.\\n\\n② 임금은 매월 1회 이상 일정한 날짜를 정하여 지급하여야 한다. 다만, 임시로 지급하는 임금, 수당, 그 밖에 이에 준하는 것 또는 대통령령으로 정하는 임금에 대하여는 그러하지 아니하다.')]"
      ]
     },
     "execution_count": 19,
     "metadata": {},
     "output_type": "execute_result"
    }
   ],
   "source": [
    "retriever = database.as_retriever(search_kwargs={'k': 4})\n",
    "retriever.invoke(query)"
   ]
  },
  {
   "cell_type": "markdown",
   "metadata": {},
   "source": [
    "# 4. Augmentation을 위한 Prompt 활용"
   ]
  },
  {
   "cell_type": "markdown",
   "metadata": {},
   "source": [
    "- Retrieval 된 데이터는 LangChain에서 제공하는 프롬프트(\"rlm/rag-prompt\") 사용"
   ]
  },
  {
   "cell_type": "code",
   "execution_count": 20,
   "metadata": {},
   "outputs": [],
   "source": [
    "from langchain import hub\n",
    "\n",
    "prompt = hub.pull(\"rlm/rag-prompt\")"
   ]
  },
  {
   "cell_type": "code",
   "execution_count": 21,
   "metadata": {},
   "outputs": [],
   "source": [
    "from langchain_openai import ChatOpenAI\n",
    "\n",
    "llm = ChatOpenAI(model='gpt-4o')"
   ]
  },
  {
   "cell_type": "markdown",
   "metadata": {},
   "source": [
    "# 5. 답변 생성"
   ]
  },
  {
   "cell_type": "markdown",
   "metadata": {},
   "source": [
    "- RetrievalQA를 통해 LLM에 전달\n",
    "    - RetrievalQA는 create_retrieval_chain으로 대체됨\n",
    "    - 실제 ChatBot 구현 시 create_retrieval_chain으로 변경하는 과정을 볼 수 있음"
   ]
  },
  {
   "cell_type": "code",
   "execution_count": 22,
   "metadata": {},
   "outputs": [],
   "source": [
    "from langchain.chains import RetrievalQA\n",
    "\n",
    "qa_chain = RetrievalQA.from_chain_type(\n",
    "    llm,\n",
    "    retriever=retriever,\n",
    "    chain_type_kwargs={\"prompt\": prompt}\n",
    ")"
   ]
  },
  {
   "cell_type": "code",
   "execution_count": 23,
   "metadata": {},
   "outputs": [],
   "source": [
    "ai_message = qa_chain.invoke({\"query\": query})"
   ]
  },
  {
   "cell_type": "code",
   "execution_count": 24,
   "metadata": {},
   "outputs": [
    {
     "data": {
      "text/plain": [
       "{'query': '임금 체불 시 어떻게 대응해야 하나요?',\n",
       " 'result': '임금 체불 시, 직상 수급인에게 하수급인의 임금채무를 알려야 하며, 직상 수급인이 파산 등의 사유로 하수급인이 임금을 지급할 수 없는 명백한 사유가 있다고 인정하는 경우에는 원수급인에게 직접 지급을 요구할 수 있습니다. 또한, 고용노동부장관에게 체불사업주의 명단 공개를 요청할 수 있습니다. 마지막으로, 근로자의 임금은 사용자의 총재산에서 다른 채권에 우선하여 변제됩니다.'}"
      ]
     },
     "execution_count": 24,
     "metadata": {},
     "output_type": "execute_result"
    }
   ],
   "source": [
    "ai_message"
   ]
  },
  {
   "cell_type": "code",
   "execution_count": null,
   "metadata": {},
   "outputs": [],
   "source": []
  }
 ],
 "metadata": {
  "kernelspec": {
   "display_name": "inflearn-llm-application",
   "language": "python",
   "name": "python3"
  },
  "language_info": {
   "codemirror_mode": {
    "name": "ipython",
    "version": 3
   },
   "file_extension": ".py",
   "mimetype": "text/x-python",
   "name": "python",
   "nbconvert_exporter": "python",
   "pygments_lexer": "ipython3",
   "version": "3.12.4"
  }
 },
 "nbformat": 4,
 "nbformat_minor": 2
}
