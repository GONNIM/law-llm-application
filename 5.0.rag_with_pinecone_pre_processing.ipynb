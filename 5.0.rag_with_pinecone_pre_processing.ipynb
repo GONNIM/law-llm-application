{
 "cells": [
  {
   "cell_type": "markdown",
   "metadata": {},
   "source": [
    "# 1. Package 설치"
   ]
  },
  {
   "cell_type": "code",
   "execution_count": null,
   "metadata": {},
   "outputs": [],
   "source": [
    "%pip install langchain langchain-core langchain-community langchain-text-splitters langchain-openai langchain-pinecone"
   ]
  },
  {
   "cell_type": "markdown",
   "metadata": {},
   "source": [
    "# 2. Knowledge Base 구성을 위한 데이터 생성"
   ]
  },
  {
   "cell_type": "markdown",
   "metadata": {},
   "source": [
    "- 4. LangChain을 활용한 Vector Database 변경 (Chroma -> Pinecone)과 동일함"
   ]
  },
  {
   "cell_type": "code",
   "execution_count": 1,
   "metadata": {},
   "outputs": [],
   "source": [
    "from langchain_community.document_loaders import Docx2txtLoader\n",
    "from langchain_text_splitters import RecursiveCharacterTextSplitter\n",
    "\n",
    "text_splitter = RecursiveCharacterTextSplitter(\n",
    "    chunk_size=1500,\n",
    "    chunk_overlap=200,\n",
    ")\n",
    "\n",
    "# 소득세법\n",
    "# document_name = './tax_with_markdown.docx'\n",
    "# 민법\n",
    "# document_name = './civil_with_markdown.docx'\n",
    "# 형법\n",
    "# document_name = './criminal_with_markdown.docx'\n",
    "# 도로교통법\n",
    "document_name = './traffic_with_markdown.docx'\n",
    "\n",
    "loader = Docx2txtLoader(document_name)\n",
    "document_list = loader.load_and_split(text_splitter=text_splitter)"
   ]
  },
  {
   "cell_type": "code",
   "execution_count": 2,
   "metadata": {},
   "outputs": [
    {
     "data": {
      "text/plain": [
       "124"
      ]
     },
     "execution_count": 2,
     "metadata": {},
     "output_type": "execute_result"
    }
   ],
   "source": [
    "len_list = len(document_list)\n",
    "len_list"
   ]
  },
  {
   "cell_type": "code",
   "execution_count": 3,
   "metadata": {},
   "outputs": [
    {
     "data": {
      "text/plain": [
       "Document(metadata={'source': './traffic_with_markdown.docx'}, page_content='2. 제6조제1항ㆍ제2항ㆍ제4항 또는 제7조에 따른 금지ㆍ제한 또는 조치를 위반한 차 또는 노면전차의 운전자\\n\\n3. 제22조, 제23조, 제29조제4항부터 제6항까지, 제53조의5, 제60조, 제64조, 제65조 또는 제66조를 위반한 사람\\n\\n4. 제31조, 제34조 또는 제52조제4항을 위반하거나 제35조제1항에 따른 명령을 위반한 사람\\n\\n5. 제39조제6항에 따른 시ㆍ도경찰청장의 제한을 위반한 사람\\n\\n6. 제50조제1항, 제3항 및 제4항을 위반하여 좌석안전띠를 매지 아니하거나 인명보호 장구를 착용하지 아니한 운전자(자전거 운전자는 제외한다)\\n\\n6의2. 제56조의2제1항을 위반하여 자율주행시스템의 직접 운전 요구에 지체 없이 대응하지 아니한 자율주행자동차의 운전자\\n\\n7. 제95조제2항에 따른 경찰공무원의 운전면허증 회수를 거부하거나 방해한 사람\\n\\n8. 삭제<2020. 5. 26.>\\n\\n9. 삭제<2020. 5. 26.>\\n\\n9의2. 삭제<2020. 5. 26.>\\n\\n10. 주ㆍ정차된 차만 손괴한 것이 분명한 경우에 제54조제1항제2호에 따라 피해자에게 인적 사항을 제공하지 아니한 사람\\n\\n11. 제44조제1항을 위반하여 술에 취한 상태에서 자전거등을 운전한 사람\\n\\n12. 술에 취한 상태에 있다고 인정할 만한 상당한 이유가 있는 사람으로서 제44조제2항에 따른 경찰공무원의 측정에 응하지 아니한 사람(자전거등을 운전한 사람으로 한정한다)\\n\\n13. 제43조를 위반하여 제80조에 따른 원동기장치자전거를 운전할 수 있는 운전면허를 받지 아니하거나(원동기장치자전거를 운전할 수 있는 운전면허의 효력이 정지된 경우를 포함한다) 국제운전면허증 또는 상호인정외국면허증 중 원동기장치자전거를 운전할 수 있는 것으로 기재된 국제운전면허증 또는 상호인정외국면허증을 발급받지 아니하고(운전이 금지된 경우와 유효기간이 지난 경우를 포함한다) 개인형 이동장치를 운전한 사람\\n\\n[전문개정 2011. 6. 8.]\\n\\n[시행일: 2024. 9. 20.] 제156조\\n\\n\\n\\n제157조(벌칙) 다음 각 호의 어느 하나에 해당하는 사람은 20만원 이하의 벌금이나 구류 또는 과료에 처한다. <개정 2023. 4. 18.>\\n\\n1. 제5조, 제8조제1항, 제10조제2항부터 제5항까지의 규정을 위반한 보행자(실외이동로봇이 위반한 경우에는 실외이동로봇 운용자를 포함한다)\\n\\n2. 제6조제1항ㆍ제2항ㆍ제4항 또는 제7조에 따른 금지ㆍ제한 또는 조치를 위반한 보행자(실외이동로봇이 위반한 경우에는 실외이동로봇 운용자를 포함한다)\\n\\n2의2. 제8조의2제2항을 위반한 실외이동로봇 운용자\\n\\n3. 제9조제1항을 위반하거나 같은 조 제3항에 따른 경찰공무원의 조치를 위반한 행렬등의 보행자나 지휘자\\n\\n4. 제68조제3항을 위반하여 도로에서의 금지행위를 한 사람\\n\\n[전문개정 2011. 6. 8.]\\n\\n\\n\\n제158조(형의 병과) 이 장의 죄를 범한 사람에 대하여는 정상(情狀)에 따라 벌금 또는 과료와 구류의 형을 병과(竝科)할 수 있다.\\n\\n[전문개정 2011. 6. 8.]')"
      ]
     },
     "execution_count": 3,
     "metadata": {},
     "output_type": "execute_result"
    }
   ],
   "source": [
    "document_list[len_list - 10]"
   ]
  },
  {
   "cell_type": "code",
   "execution_count": 4,
   "metadata": {},
   "outputs": [],
   "source": [
    "from dotenv import load_dotenv\n",
    "from langchain_openai import OpenAIEmbeddings\n",
    "\n",
    "load_dotenv()\n",
    "\n",
    "embedding = OpenAIEmbeddings(model='text-embedding-3-large')"
   ]
  },
  {
   "cell_type": "code",
   "execution_count": null,
   "metadata": {},
   "outputs": [],
   "source": [
    "%pip install --upgrade jupyter"
   ]
  },
  {
   "cell_type": "code",
   "execution_count": null,
   "metadata": {},
   "outputs": [],
   "source": [
    "%pip install --upgrade ipywidgets"
   ]
  },
  {
   "cell_type": "code",
   "execution_count": 5,
   "metadata": {},
   "outputs": [],
   "source": [
    "import os\n",
    "\n",
    "from pinecone import Pinecone\n",
    "from langchain_pinecone import PineconeVectorStore\n",
    "\n",
    "is_create = False\n",
    "# 소득세법\n",
    "# index_name = 'tax-markdown-index'\n",
    "# 민법\n",
    "# index_name = 'civil-markdown-index'\n",
    "# 형법\n",
    "# index_name = 'criminal-markdown-index'\n",
    "# 도로교통법\n",
    "index_name = 'traffic-markdown-index'\n",
    "\n",
    "pinecone_api_key = os.environ.get(\"PINECONE_API_KEY\")\n",
    "pc = Pinecone(api_key=pinecone_api_key)\n",
    "\n",
    "# 데이터를 추가할 때는 `from_documents()` 데이터를 추가한 이후에는 `from_existing_index()`를 사용합니다\n",
    "if is_create:\n",
    "    database = PineconeVectorStore.from_documents(document_list, embedding, index_name=index_name)\n",
    "else:\n",
    "    database = PineconeVectorStore.from_existing_index(index_name=index_name, embedding=embedding)"
   ]
  },
  {
   "cell_type": "code",
   "execution_count": 6,
   "metadata": {},
   "outputs": [],
   "source": [
    "# 소득세법\n",
    "# query = '연봉 5천만원인 직장인의 소득세는?'\n",
    "# 민법\n",
    "# query = '부동산 매매 계약에서의 소유 이전은 어떻게 이루어지나요?'\n",
    "# 형법\n",
    "# query = '소유권 이전 과정에서 허위 서류를 제출한 경우, 이는 어떤 형법적 처벌을 받을 수 있나요?'\n",
    "# 도로교통법\n",
    "query = '음주운전 단속 기준은 어떻게 되나요?'"
   ]
  },
  {
   "cell_type": "markdown",
   "metadata": {},
   "source": [
    "# 3. 답변 생성을 위한 Retrieval"
   ]
  },
  {
   "cell_type": "markdown",
   "metadata": {},
   "source": [
    "- RetrievalQA에 전달하기 위해 retriever 생성\n",
    "- search_kwargs의 k값을 변경해서 가져올 문서의 갯수를 지정할 수 있음\n",
    "- .invoke()를 호출해서 어떤 문서를 가져오는지 확인 가능"
   ]
  },
  {
   "cell_type": "code",
   "execution_count": 7,
   "metadata": {},
   "outputs": [
    {
     "data": {
      "text/plain": [
       "[Document(metadata={'source': './traffic_with_markdown.docx'}, page_content='② 경찰공무원은 교통의 안전과 위험방지를 위하여 필요하다고 인정하거나 제1항을 위반하여 술에 취한 상태에서 자동차등, 노면전차 또는 자전거를 운전하였다고 인정할 만한 상당한 이유가 있는 경우에는 운전자가 술에 취하였는지를 호흡조사로 측정할 수 있다. 이 경우 운전자는 경찰공무원의 측정에 응하여야 한다.<개정 2014. 12. 30., 2018. 3. 27.>\\n\\n③ 제2항에 따른 측정 결과에 불복하는 운전자에 대하여는 그 운전자의 동의를 받아 혈액 채취 등의 방법으로 다시 측정할 수 있다.\\n\\n④ 제1항에 따라 운전이 금지되는 술에 취한 상태의 기준은 운전자의 혈중알코올농도가 0.03퍼센트 이상인 경우로 한다.<개정 2018. 12. 24.>\\n\\n⑤ 제2항 및 제3항에 따른 측정의 방법, 절차 등 필요한 사항은 행정안전부령으로 정한다.<신설 2023. 1. 3.>\\n\\n[전문개정 2011. 6. 8.]\\n\\n[시행일: 2024. 10. 25.] 제44조\\n\\n\\n\\n제45조(과로한 때 등의 운전 금지) 자동차등(개인형 이동장치는 제외한다) 또는 노면전차의 운전자는 제44조에 따른 술에 취한 상태 외에 과로, 질병 또는 약물(마약, 대마 및 향정신성의약품과 그 밖에 행정안전부령으로 정하는 것을 말한다. 이하 같다)의 영향과 그 밖의 사유로 정상적으로 운전하지 못할 우려가 있는 상태에서 자동차등 또는 노면전차를 운전하여서는 아니 된다. <개정 2013. 3. 23., 2014. 11. 19., 2017. 7. 26., 2018. 3. 27., 2020. 6. 9.>\\n\\n[전문개정 2011. 6. 8.]\\n\\n\\n\\n제46조(공동 위험행위의 금지) ① 자동차등(개인형 이동장치는 제외한다. 이하 이 조에서 같다)의 운전자는 도로에서 2명 이상이 공동으로 2대 이상의 자동차등을 정당한 사유 없이 앞뒤로 또는 좌우로 줄지어 통행하면서 다른 사람에게 위해(危害)를 끼치거나 교통상의 위험을 발생하게 하여서는 아니 된다. <개정 2020. 6. 9.>\\n\\n② 자동차등의 동승자는 제1항에 따른 공동 위험행위를 주도하여서는 아니 된다.\\n\\n[전문개정 2011. 6. 8.]\\n\\n\\n\\n제46조의2(교통단속용 장비의 기능방해 금지) 누구든지 교통단속을 회피할 목적으로 교통단속용 장비의 기능을 방해하는 장치를 제작ㆍ수입ㆍ판매 또는 장착하여서는 아니 된다.\\n\\n[전문개정 2011. 6. 8.]\\n\\n\\n\\n제46조의3(난폭운전 금지) 자동차등(개인형 이동장치는 제외한다)의 운전자는 다음 각 호 중 둘 이상의 행위를 연달아 하거나, 하나의 행위를 지속 또는 반복하여 다른 사람에게 위협 또는 위해를 가하거나 교통상의 위험을 발생하게 하여서는 아니 된다. <개정 2020. 6. 9.>\\n\\n1. 제5조에 따른 신호 또는 지시 위반\\n\\n2. 제13조제3항에 따른 중앙선 침범\\n\\n3. 제17조제3항에 따른 속도의 위반\\n\\n4. 제18조제1항에 따른 횡단ㆍ유턴ㆍ후진 금지 위반\\n\\n5. 제19조에 따른 안전거리 미확보, 진로변경 금지 위반, 급제동 금지 위반'),\n",
       " Document(metadata={'source': './traffic_with_markdown.docx'}, page_content='1. 제5조에 따른 신호 또는 지시 위반\\n\\n2. 제13조제3항에 따른 중앙선 침범\\n\\n3. 제17조제3항에 따른 속도의 위반\\n\\n4. 제18조제1항에 따른 횡단ㆍ유턴ㆍ후진 금지 위반\\n\\n5. 제19조에 따른 안전거리 미확보, 진로변경 금지 위반, 급제동 금지 위반\\n\\n6. 제21조제1항ㆍ제3항 및 제4항에 따른 앞지르기 방법 또는 앞지르기의 방해금지 위반\\n\\n7. 제49조제1항제8호에 따른 정당한 사유 없는 소음 발생\\n\\n8. 제60조제2항에 따른 고속도로에서의 앞지르기 방법 위반\\n\\n9. 제62조에 따른 고속도로등에서의 횡단ㆍ유턴ㆍ후진 금지 위반\\n\\n[본조신설 2015. 8. 11.]\\n\\n\\n\\n제47조(위험방지를 위한 조치) ① 경찰공무원은 자동차등 또는 노면전차의 운전자가 제43조부터 제45조까지의 규정을 위반하여 자동차등 또는 노면전차를 운전하고 있다고 인정되는 경우에는 자동차등 또는 노면전차를 일시정지시키고 그 운전자에게 자동차 운전면허증(이하 “운전면허증”이라 한다)을 제시할 것을 요구할 수 있다. <개정 2018. 3. 27., 2020. 6. 9., 2021. 1. 12.>\\n\\n② 경찰공무원은 제44조 및 제45조를 위반하여 자동차등 또는 노면전차를 운전하는 사람이나 제44조를 위반하여 자전거등을 운전하는 사람에 대하여는 정상적으로 운전할 수 있는 상태가 될 때까지 운전의 금지를 명하고 차를 이동시키는 등 필요한 조치를 할 수 있다.<개정 2017. 10. 24., 2018. 3. 27., 2020. 6. 9.>\\n\\n③ 제2항에 따른 차의 이동조치에 대해서는 제35조제3항부터 제7항까지 및 제36조의 규정을 준용한다.<신설 2017. 10. 24.>\\n\\n[전문개정 2011. 6. 8.]\\n\\n\\n\\n제48조(안전운전 및 친환경 경제운전의 의무) ① 모든 차 또는 노면전차의 운전자는 차 또는 노면전차의 조향장치와 제동장치, 그 밖의 장치를 정확하게 조작하여야 하며, 도로의 교통상황과 차 또는 노면전차의 구조 및 성능에 따라 다른 사람에게 위험과 장해를 주는 속도나 방법으로 운전하여서는 아니 된다. <개정 2018. 3. 27.>\\n\\n② 모든 차의 운전자는 차를 친환경적이고 경제적인 방법으로 운전하여 연료소모와 탄소배출을 줄이도록 노력하여야 한다.\\n\\n[전문개정 2011. 6. 8.]\\n\\n\\n\\n제49조(모든 운전자의 준수사항 등) ① 모든 차 또는 노면전차의 운전자는 다음 각 호의 사항을 지켜야 한다. <개정 2013. 3. 23., 2013. 8. 13., 2014. 11. 19., 2015. 8. 11., 2017. 7. 26., 2018. 3. 27., 2020. 6. 9., 2020. 12. 22., 2021. 10. 19.>\\n\\n1. 물이 고인 곳을 운행할 때에는 고인 물을 튀게 하여 다른 사람에게 피해를 주는 일이 없도록 할 것\\n\\n2. 다음 각 목의 어느 하나에 해당하는 경우에는 일시정지할 것'),\n",
       " Document(metadata={'source': './traffic_with_markdown.docx'}, page_content='④ 제1항부터 제3항까지의 규정에 따른 장치의 점검 및 사용의 정지에 필요한 사항은 대통령령으로 정한다.\\n\\n[전문개정 2011. 6. 8.]\\n\\n\\n\\n제42조(유사 표지의 제한 및 운행금지) ① 누구든지 자동차등(개인형 이동장치는 제외한다)에 교통단속용자동차ㆍ범죄수사용자동차나 그 밖의 긴급자동차와 유사하거나 혐오감을 주는 도색(塗色)이나 표지 등을 하거나 그러한 도색이나 표지 등을 한 자동차등을 운전하여서는 아니 된다. <개정 2020. 6. 9.>\\n\\n② 제1항에 따라 제한되는 도색이나 표지 등의 범위는 대통령령으로 정한다.\\n\\n[전문개정 2011. 6. 8.]\\n\\n\\n\\n제4장 운전자 및 고용주 등의 의무 <개정 2011. 6. 8.>\\n\\n\\n\\n제43조(무면허운전 등의 금지) 누구든지 제80조에 따라 시ㆍ도경찰청장으로부터 운전면허를 받지 아니하거나 운전면허의 효력이 정지된 경우에는 자동차등을 운전하여서는 아니 된다. <개정 2020. 6. 9., 2020. 12. 22., 2021. 1. 12.>\\n\\n[전문개정 2011. 6. 8.]\\n\\n\\n\\n제44조(술에 취한 상태에서의 운전 금지) ① 누구든지 술에 취한 상태에서 자동차등(「건설기계관리법」 제26조제1항 단서에 따른 건설기계 외의 건설기계를 포함한다. 이하 이 조, 제45조, 제47조, 제93조제1항제1호부터 제4호까지 및 제148조의2에서 같다), 노면전차 또는 자전거를 운전하여서는 아니 된다. <개정 2018. 3. 27.>\\n\\n② 경찰공무원은 교통의 안전과 위험방지를 위하여 필요하다고 인정하거나 제1항을 위반하여 술에 취한 상태에서 자동차등, 노면전차 또는 자전거를 운전하였다고 인정할 만한 상당한 이유가 있는 경우에는 운전자가 술에 취하였는지를 호흡조사로 측정할 수 있다. 이 경우 운전자는 경찰공무원의 측정에 응하여야 한다.<개정 2014. 12. 30., 2018. 3. 27.>\\n\\n③ 제2항에 따른 측정 결과에 불복하는 운전자에 대하여는 그 운전자의 동의를 받아 혈액 채취 등의 방법으로 다시 측정할 수 있다.\\n\\n④ 제1항에 따라 운전이 금지되는 술에 취한 상태의 기준은 운전자의 혈중알코올농도가 0.03퍼센트 이상인 경우로 한다.<개정 2018. 12. 24.>\\n\\n⑤ 제2항 및 제3항에 따른 측정의 방법, 절차 등 필요한 사항은 행정안전부령으로 정한다.<신설 2023. 1. 3.>\\n\\n[전문개정 2011. 6. 8.]\\n\\n\\n\\n제44조(술에 취한 상태에서의 운전 금지) ① 누구든지 술에 취한 상태에서 자동차등(「건설기계관리법」 제26조제1항 단서에 따른 건설기계 외의 건설기계를 포함한다. 이하 이 조, 제45조, 제47조, 제50조의3, 제93조제1항제1호부터 제4호까지 및 제148조의2에서 같다), 노면전차 또는 자전거를 운전하여서는 아니 된다. <개정 2018. 3. 27., 2023. 10. 24.>'),\n",
       " Document(metadata={'source': './traffic_with_markdown.docx'}, page_content='11. 제44조제1항을 위반하여 술에 취한 상태에서 자전거등을 운전한 사람\\n\\n12. 술에 취한 상태에 있다고 인정할 만한 상당한 이유가 있는 사람으로서 제44조제2항에 따른 경찰공무원의 측정에 응하지 아니한 사람(자전거등을 운전한 사람으로 한정한다)\\n\\n13. 제43조를 위반하여 제80조에 따른 원동기장치자전거를 운전할 수 있는 운전면허를 받지 아니하거나(원동기장치자전거를 운전할 수 있는 운전면허의 효력이 정지된 경우를 포함한다) 국제운전면허증 또는 상호인정외국면허증 중 원동기장치자전거를 운전할 수 있는 것으로 기재된 국제운전면허증 또는 상호인정외국면허증을 발급받지 아니하고(운전이 금지된 경우와 유효기간이 지난 경우를 포함한다) 개인형 이동장치를 운전한 사람\\n\\n[전문개정 2011. 6. 8.]\\n\\n\\n\\n제156조(벌칙) 다음 각 호의 어느 하나에 해당하는 사람은 20만원 이하의 벌금이나 구류 또는 과료(科料)에 처한다. <개정 2013. 8. 13., 2014. 1. 28., 2014. 12. 30., 2015. 8. 11., 2016. 1. 27., 2016. 12. 2., 2017. 10. 24., 2018. 3. 27., 2018. 10. 16., 2020. 5. 26., 2020. 6. 9., 2020. 12. 22., 2021. 1. 12., 2021. 10. 19., 2022. 1. 11., 2024. 3. 19.>\\n\\n1. 제5조, 제13조제1항부터 제3항(제13조제3항의 경우 고속도로, 자동차전용도로, 중앙분리대가 있는 도로에서 고의로 위반하여 운전한 사람은 제외한다)까지 및 제5항, 제14조제2항ㆍ제3항ㆍ제5항, 제15조제3항(제61조제2항에서 준용하는 경우를 포함한다), 제15조의2제3항, 제16조제2항, 제17조제3항(제151조의2제2호, 제153조제2항제2호 및 제154조제9호에 해당하는 사람은 제외한다), 제18조, 제19조제1항ㆍ제3항 및 제4항, 제21조제1항ㆍ제3항 및 제4항, 제24조, 제25조, 제25조의2, 제26조부터 제28조까지, 제32조, 제33조, 제34조의3, 제37조(제1항제2호는 제외한다), 제38조제1항, 제39조제1항ㆍ제3항ㆍ제4항ㆍ제5항, 제48조제1항, 제49조(같은 조 제1항제1호ㆍ제3호를 위반하여 차 또는 노면전차를 운전한 사람과 같은 항 제4호의 위반행위 중 교통단속용 장비의 기능을 방해하는 장치를 한 차를 운전한 사람은 제외한다), 제50조제5항부터 제10항(같은 조 제9항을 위반하여 자전거를 운전한 사람은 제외한다)까지, 제51조, 제53조제1항 및 제2항(좌석안전띠를 매도록 하지 아니한 운전자는 제외한다), 제62조 또는 제73조제2항(같은 항 제1호는 제외한다)을 위반한 차마 또는 노면전차의 운전자\\n\\n2. 제6조제1항ㆍ제2항ㆍ제4항 또는 제7조에 따른 금지ㆍ제한 또는 조치를 위반한 차 또는 노면전차의 운전자\\n\\n3. 제22조, 제23조, 제29조제4항부터 제6항까지, 제53조의5, 제60조, 제64조, 제65조 또는 제66조를 위반한 사람')]"
      ]
     },
     "execution_count": 7,
     "metadata": {},
     "output_type": "execute_result"
    }
   ],
   "source": [
    "retriever = database.as_retriever(search_kwargs={'k': 4})\n",
    "retriever.invoke(query)"
   ]
  },
  {
   "cell_type": "markdown",
   "metadata": {},
   "source": [
    "# 4. Augmentation을 위한 Prompt 활용"
   ]
  },
  {
   "cell_type": "markdown",
   "metadata": {},
   "source": [
    "- Retrieval 된 데이터는 LangChain에서 제공하는 프롬프트(\"rlm/rag-prompt\") 사용"
   ]
  },
  {
   "cell_type": "code",
   "execution_count": 8,
   "metadata": {},
   "outputs": [],
   "source": [
    "from langchain import hub\n",
    "\n",
    "prompt = hub.pull(\"rlm/rag-prompt\")"
   ]
  },
  {
   "cell_type": "code",
   "execution_count": 9,
   "metadata": {},
   "outputs": [],
   "source": [
    "from langchain_openai import ChatOpenAI\n",
    "\n",
    "llm = ChatOpenAI(model='gpt-4o')"
   ]
  },
  {
   "cell_type": "markdown",
   "metadata": {},
   "source": [
    "# 5. 답변 생성"
   ]
  },
  {
   "cell_type": "markdown",
   "metadata": {},
   "source": [
    "- RetrievalQA를 통해 LLM에 전달\n",
    "    - RetrievalQA는 create_retrieval_chain으로 대체됨\n",
    "    - 실제 ChatBot 구현 시 create_retrieval_chain으로 변경하는 과정을 볼 수 있음"
   ]
  },
  {
   "cell_type": "code",
   "execution_count": 10,
   "metadata": {},
   "outputs": [],
   "source": [
    "from langchain.chains import RetrievalQA\n",
    "\n",
    "qa_chain = RetrievalQA.from_chain_type(\n",
    "    llm,\n",
    "    retriever=retriever,\n",
    "    chain_type_kwargs={\"prompt\": prompt}\n",
    ")"
   ]
  },
  {
   "cell_type": "code",
   "execution_count": 11,
   "metadata": {},
   "outputs": [],
   "source": [
    "ai_message = qa_chain.invoke({\"query\": query})"
   ]
  },
  {
   "cell_type": "code",
   "execution_count": 12,
   "metadata": {},
   "outputs": [
    {
     "data": {
      "text/plain": [
       "{'query': '음주운전 단속 기준은 어떻게 되나요?',\n",
       " 'result': '음주운전 단속 기준은 운전자의 혈중알코올농도가 0.03퍼센트 이상인 경우입니다. 경찰공무원은 호흡조사로 혈중알코올농도를 측정할 수 있으며, 측정 결과에 불복할 경우 혈액 채취 등의 방법으로 다시 측정할 수 있습니다.'}"
      ]
     },
     "execution_count": 12,
     "metadata": {},
     "output_type": "execute_result"
    }
   ],
   "source": [
    "ai_message"
   ]
  },
  {
   "cell_type": "code",
   "execution_count": null,
   "metadata": {},
   "outputs": [],
   "source": []
  }
 ],
 "metadata": {
  "kernelspec": {
   "display_name": "inflearn-llm-application",
   "language": "python",
   "name": "python3"
  },
  "language_info": {
   "codemirror_mode": {
    "name": "ipython",
    "version": 3
   },
   "file_extension": ".py",
   "mimetype": "text/x-python",
   "name": "python",
   "nbconvert_exporter": "python",
   "pygments_lexer": "ipython3",
   "version": "3.12.4"
  }
 },
 "nbformat": 4,
 "nbformat_minor": 2
}
